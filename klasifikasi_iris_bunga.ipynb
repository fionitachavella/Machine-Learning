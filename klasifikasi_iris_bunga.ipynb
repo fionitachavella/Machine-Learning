{
  "nbformat": 4,
  "nbformat_minor": 0,
  "metadata": {
    "colab": {
      "provenance": []
    },
    "kernelspec": {
      "name": "python3",
      "display_name": "Python 3"
    },
    "language_info": {
      "name": "python"
    }
  },
  "cells": [
    {
      "cell_type": "markdown",
      "source": [
        "# Gathering Data"
      ],
      "metadata": {
        "id": "p5i8sDzX3zDI"
      }
    },
    {
      "cell_type": "code",
      "execution_count": 1,
      "metadata": {
        "id": "UuTH0JXI2vx7"
      },
      "outputs": [],
      "source": [
        "from pandas import read_csv"
      ]
    },
    {
      "cell_type": "code",
      "source": [
        "url = 'https://raw.githubusercontent.com/achmatim/data-mining/main/Dataset/iris.csv'\n",
        "df = read_csv(url)\n",
        "df.head()"
      ],
      "metadata": {
        "colab": {
          "base_uri": "https://localhost:8080/",
          "height": 206
        },
        "id": "HiDGUP_425l9",
        "outputId": "ef604c9e-9bef-4aa5-f5e9-be45b3d45868"
      },
      "execution_count": 2,
      "outputs": [
        {
          "output_type": "execute_result",
          "data": {
            "text/plain": [
              "   SepalLengthCm  SepalWidthCm  PetalLengthCm  PetalWidthCm        Label\n",
              "0            5.1           3.5            1.4           0.2  Iris-setosa\n",
              "1            4.9           3.0            1.4           0.2  Iris-setosa\n",
              "2            4.7           3.2            1.3           0.2  Iris-setosa\n",
              "3            4.6           3.1            1.5           0.2  Iris-setosa\n",
              "4            5.0           3.6            1.4           0.2  Iris-setosa"
            ],
            "text/html": [
              "\n",
              "  <div id=\"df-9cfc9175-a8ef-4f22-aa01-01abc97ac88c\" class=\"colab-df-container\">\n",
              "    <div>\n",
              "<style scoped>\n",
              "    .dataframe tbody tr th:only-of-type {\n",
              "        vertical-align: middle;\n",
              "    }\n",
              "\n",
              "    .dataframe tbody tr th {\n",
              "        vertical-align: top;\n",
              "    }\n",
              "\n",
              "    .dataframe thead th {\n",
              "        text-align: right;\n",
              "    }\n",
              "</style>\n",
              "<table border=\"1\" class=\"dataframe\">\n",
              "  <thead>\n",
              "    <tr style=\"text-align: right;\">\n",
              "      <th></th>\n",
              "      <th>SepalLengthCm</th>\n",
              "      <th>SepalWidthCm</th>\n",
              "      <th>PetalLengthCm</th>\n",
              "      <th>PetalWidthCm</th>\n",
              "      <th>Label</th>\n",
              "    </tr>\n",
              "  </thead>\n",
              "  <tbody>\n",
              "    <tr>\n",
              "      <th>0</th>\n",
              "      <td>5.1</td>\n",
              "      <td>3.5</td>\n",
              "      <td>1.4</td>\n",
              "      <td>0.2</td>\n",
              "      <td>Iris-setosa</td>\n",
              "    </tr>\n",
              "    <tr>\n",
              "      <th>1</th>\n",
              "      <td>4.9</td>\n",
              "      <td>3.0</td>\n",
              "      <td>1.4</td>\n",
              "      <td>0.2</td>\n",
              "      <td>Iris-setosa</td>\n",
              "    </tr>\n",
              "    <tr>\n",
              "      <th>2</th>\n",
              "      <td>4.7</td>\n",
              "      <td>3.2</td>\n",
              "      <td>1.3</td>\n",
              "      <td>0.2</td>\n",
              "      <td>Iris-setosa</td>\n",
              "    </tr>\n",
              "    <tr>\n",
              "      <th>3</th>\n",
              "      <td>4.6</td>\n",
              "      <td>3.1</td>\n",
              "      <td>1.5</td>\n",
              "      <td>0.2</td>\n",
              "      <td>Iris-setosa</td>\n",
              "    </tr>\n",
              "    <tr>\n",
              "      <th>4</th>\n",
              "      <td>5.0</td>\n",
              "      <td>3.6</td>\n",
              "      <td>1.4</td>\n",
              "      <td>0.2</td>\n",
              "      <td>Iris-setosa</td>\n",
              "    </tr>\n",
              "  </tbody>\n",
              "</table>\n",
              "</div>\n",
              "    <div class=\"colab-df-buttons\">\n",
              "\n",
              "  <div class=\"colab-df-container\">\n",
              "    <button class=\"colab-df-convert\" onclick=\"convertToInteractive('df-9cfc9175-a8ef-4f22-aa01-01abc97ac88c')\"\n",
              "            title=\"Convert this dataframe to an interactive table.\"\n",
              "            style=\"display:none;\">\n",
              "\n",
              "  <svg xmlns=\"http://www.w3.org/2000/svg\" height=\"24px\" viewBox=\"0 -960 960 960\">\n",
              "    <path d=\"M120-120v-720h720v720H120Zm60-500h600v-160H180v160Zm220 220h160v-160H400v160Zm0 220h160v-160H400v160ZM180-400h160v-160H180v160Zm440 0h160v-160H620v160ZM180-180h160v-160H180v160Zm440 0h160v-160H620v160Z\"/>\n",
              "  </svg>\n",
              "    </button>\n",
              "\n",
              "  <style>\n",
              "    .colab-df-container {\n",
              "      display:flex;\n",
              "      gap: 12px;\n",
              "    }\n",
              "\n",
              "    .colab-df-convert {\n",
              "      background-color: #E8F0FE;\n",
              "      border: none;\n",
              "      border-radius: 50%;\n",
              "      cursor: pointer;\n",
              "      display: none;\n",
              "      fill: #1967D2;\n",
              "      height: 32px;\n",
              "      padding: 0 0 0 0;\n",
              "      width: 32px;\n",
              "    }\n",
              "\n",
              "    .colab-df-convert:hover {\n",
              "      background-color: #E2EBFA;\n",
              "      box-shadow: 0px 1px 2px rgba(60, 64, 67, 0.3), 0px 1px 3px 1px rgba(60, 64, 67, 0.15);\n",
              "      fill: #174EA6;\n",
              "    }\n",
              "\n",
              "    .colab-df-buttons div {\n",
              "      margin-bottom: 4px;\n",
              "    }\n",
              "\n",
              "    [theme=dark] .colab-df-convert {\n",
              "      background-color: #3B4455;\n",
              "      fill: #D2E3FC;\n",
              "    }\n",
              "\n",
              "    [theme=dark] .colab-df-convert:hover {\n",
              "      background-color: #434B5C;\n",
              "      box-shadow: 0px 1px 3px 1px rgba(0, 0, 0, 0.15);\n",
              "      filter: drop-shadow(0px 1px 2px rgba(0, 0, 0, 0.3));\n",
              "      fill: #FFFFFF;\n",
              "    }\n",
              "  </style>\n",
              "\n",
              "    <script>\n",
              "      const buttonEl =\n",
              "        document.querySelector('#df-9cfc9175-a8ef-4f22-aa01-01abc97ac88c button.colab-df-convert');\n",
              "      buttonEl.style.display =\n",
              "        google.colab.kernel.accessAllowed ? 'block' : 'none';\n",
              "\n",
              "      async function convertToInteractive(key) {\n",
              "        const element = document.querySelector('#df-9cfc9175-a8ef-4f22-aa01-01abc97ac88c');\n",
              "        const dataTable =\n",
              "          await google.colab.kernel.invokeFunction('convertToInteractive',\n",
              "                                                    [key], {});\n",
              "        if (!dataTable) return;\n",
              "\n",
              "        const docLinkHtml = 'Like what you see? Visit the ' +\n",
              "          '<a target=\"_blank\" href=https://colab.research.google.com/notebooks/data_table.ipynb>data table notebook</a>'\n",
              "          + ' to learn more about interactive tables.';\n",
              "        element.innerHTML = '';\n",
              "        dataTable['output_type'] = 'display_data';\n",
              "        await google.colab.output.renderOutput(dataTable, element);\n",
              "        const docLink = document.createElement('div');\n",
              "        docLink.innerHTML = docLinkHtml;\n",
              "        element.appendChild(docLink);\n",
              "      }\n",
              "    </script>\n",
              "  </div>\n",
              "\n",
              "\n",
              "<div id=\"df-8cb83aca-0921-416d-b6bc-b50b53257645\">\n",
              "  <button class=\"colab-df-quickchart\" onclick=\"quickchart('df-8cb83aca-0921-416d-b6bc-b50b53257645')\"\n",
              "            title=\"Suggest charts\"\n",
              "            style=\"display:none;\">\n",
              "\n",
              "<svg xmlns=\"http://www.w3.org/2000/svg\" height=\"24px\"viewBox=\"0 0 24 24\"\n",
              "     width=\"24px\">\n",
              "    <g>\n",
              "        <path d=\"M19 3H5c-1.1 0-2 .9-2 2v14c0 1.1.9 2 2 2h14c1.1 0 2-.9 2-2V5c0-1.1-.9-2-2-2zM9 17H7v-7h2v7zm4 0h-2V7h2v10zm4 0h-2v-4h2v4z\"/>\n",
              "    </g>\n",
              "</svg>\n",
              "  </button>\n",
              "\n",
              "<style>\n",
              "  .colab-df-quickchart {\n",
              "      --bg-color: #E8F0FE;\n",
              "      --fill-color: #1967D2;\n",
              "      --hover-bg-color: #E2EBFA;\n",
              "      --hover-fill-color: #174EA6;\n",
              "      --disabled-fill-color: #AAA;\n",
              "      --disabled-bg-color: #DDD;\n",
              "  }\n",
              "\n",
              "  [theme=dark] .colab-df-quickchart {\n",
              "      --bg-color: #3B4455;\n",
              "      --fill-color: #D2E3FC;\n",
              "      --hover-bg-color: #434B5C;\n",
              "      --hover-fill-color: #FFFFFF;\n",
              "      --disabled-bg-color: #3B4455;\n",
              "      --disabled-fill-color: #666;\n",
              "  }\n",
              "\n",
              "  .colab-df-quickchart {\n",
              "    background-color: var(--bg-color);\n",
              "    border: none;\n",
              "    border-radius: 50%;\n",
              "    cursor: pointer;\n",
              "    display: none;\n",
              "    fill: var(--fill-color);\n",
              "    height: 32px;\n",
              "    padding: 0;\n",
              "    width: 32px;\n",
              "  }\n",
              "\n",
              "  .colab-df-quickchart:hover {\n",
              "    background-color: var(--hover-bg-color);\n",
              "    box-shadow: 0 1px 2px rgba(60, 64, 67, 0.3), 0 1px 3px 1px rgba(60, 64, 67, 0.15);\n",
              "    fill: var(--button-hover-fill-color);\n",
              "  }\n",
              "\n",
              "  .colab-df-quickchart-complete:disabled,\n",
              "  .colab-df-quickchart-complete:disabled:hover {\n",
              "    background-color: var(--disabled-bg-color);\n",
              "    fill: var(--disabled-fill-color);\n",
              "    box-shadow: none;\n",
              "  }\n",
              "\n",
              "  .colab-df-spinner {\n",
              "    border: 2px solid var(--fill-color);\n",
              "    border-color: transparent;\n",
              "    border-bottom-color: var(--fill-color);\n",
              "    animation:\n",
              "      spin 1s steps(1) infinite;\n",
              "  }\n",
              "\n",
              "  @keyframes spin {\n",
              "    0% {\n",
              "      border-color: transparent;\n",
              "      border-bottom-color: var(--fill-color);\n",
              "      border-left-color: var(--fill-color);\n",
              "    }\n",
              "    20% {\n",
              "      border-color: transparent;\n",
              "      border-left-color: var(--fill-color);\n",
              "      border-top-color: var(--fill-color);\n",
              "    }\n",
              "    30% {\n",
              "      border-color: transparent;\n",
              "      border-left-color: var(--fill-color);\n",
              "      border-top-color: var(--fill-color);\n",
              "      border-right-color: var(--fill-color);\n",
              "    }\n",
              "    40% {\n",
              "      border-color: transparent;\n",
              "      border-right-color: var(--fill-color);\n",
              "      border-top-color: var(--fill-color);\n",
              "    }\n",
              "    60% {\n",
              "      border-color: transparent;\n",
              "      border-right-color: var(--fill-color);\n",
              "    }\n",
              "    80% {\n",
              "      border-color: transparent;\n",
              "      border-right-color: var(--fill-color);\n",
              "      border-bottom-color: var(--fill-color);\n",
              "    }\n",
              "    90% {\n",
              "      border-color: transparent;\n",
              "      border-bottom-color: var(--fill-color);\n",
              "    }\n",
              "  }\n",
              "</style>\n",
              "\n",
              "  <script>\n",
              "    async function quickchart(key) {\n",
              "      const quickchartButtonEl =\n",
              "        document.querySelector('#' + key + ' button');\n",
              "      quickchartButtonEl.disabled = true;  // To prevent multiple clicks.\n",
              "      quickchartButtonEl.classList.add('colab-df-spinner');\n",
              "      try {\n",
              "        const charts = await google.colab.kernel.invokeFunction(\n",
              "            'suggestCharts', [key], {});\n",
              "      } catch (error) {\n",
              "        console.error('Error during call to suggestCharts:', error);\n",
              "      }\n",
              "      quickchartButtonEl.classList.remove('colab-df-spinner');\n",
              "      quickchartButtonEl.classList.add('colab-df-quickchart-complete');\n",
              "    }\n",
              "    (() => {\n",
              "      let quickchartButtonEl =\n",
              "        document.querySelector('#df-8cb83aca-0921-416d-b6bc-b50b53257645 button');\n",
              "      quickchartButtonEl.style.display =\n",
              "        google.colab.kernel.accessAllowed ? 'block' : 'none';\n",
              "    })();\n",
              "  </script>\n",
              "</div>\n",
              "\n",
              "    </div>\n",
              "  </div>\n"
            ],
            "application/vnd.google.colaboratory.intrinsic+json": {
              "type": "dataframe",
              "variable_name": "df",
              "summary": "{\n  \"name\": \"df\",\n  \"rows\": 150,\n  \"fields\": [\n    {\n      \"column\": \"SepalLengthCm\",\n      \"properties\": {\n        \"dtype\": \"number\",\n        \"std\": 0.828066127977863,\n        \"min\": 4.3,\n        \"max\": 7.9,\n        \"num_unique_values\": 35,\n        \"samples\": [\n          6.2,\n          4.5,\n          5.6\n        ],\n        \"semantic_type\": \"\",\n        \"description\": \"\"\n      }\n    },\n    {\n      \"column\": \"SepalWidthCm\",\n      \"properties\": {\n        \"dtype\": \"number\",\n        \"std\": 0.4335943113621737,\n        \"min\": 2.0,\n        \"max\": 4.4,\n        \"num_unique_values\": 23,\n        \"samples\": [\n          2.3,\n          4.0,\n          3.5\n        ],\n        \"semantic_type\": \"\",\n        \"description\": \"\"\n      }\n    },\n    {\n      \"column\": \"PetalLengthCm\",\n      \"properties\": {\n        \"dtype\": \"number\",\n        \"std\": 1.7644204199522626,\n        \"min\": 1.0,\n        \"max\": 6.9,\n        \"num_unique_values\": 43,\n        \"samples\": [\n          6.7,\n          3.8,\n          3.7\n        ],\n        \"semantic_type\": \"\",\n        \"description\": \"\"\n      }\n    },\n    {\n      \"column\": \"PetalWidthCm\",\n      \"properties\": {\n        \"dtype\": \"number\",\n        \"std\": 0.7631607417008411,\n        \"min\": 0.1,\n        \"max\": 2.5,\n        \"num_unique_values\": 22,\n        \"samples\": [\n          0.2,\n          1.2,\n          1.3\n        ],\n        \"semantic_type\": \"\",\n        \"description\": \"\"\n      }\n    },\n    {\n      \"column\": \"Label\",\n      \"properties\": {\n        \"dtype\": \"category\",\n        \"num_unique_values\": 3,\n        \"samples\": [\n          \"Iris-setosa\",\n          \"Iris-versicolor\",\n          \"Iris-virginica\"\n        ],\n        \"semantic_type\": \"\",\n        \"description\": \"\"\n      }\n    }\n  ]\n}"
            }
          },
          "metadata": {},
          "execution_count": 2
        }
      ]
    },
    {
      "cell_type": "markdown",
      "source": [
        "# Preparing Data"
      ],
      "metadata": {
        "id": "LSMISAYY36gV"
      }
    },
    {
      "cell_type": "code",
      "source": [
        "X = df.values[:, :-1]\n",
        "y = df.values[:, -1]\n",
        "\n",
        "X[0:4]"
      ],
      "metadata": {
        "colab": {
          "base_uri": "https://localhost:8080/"
        },
        "id": "JHDfR_cG3MkP",
        "outputId": "035a0d92-79a8-485b-e514-cb5fc02e12de"
      },
      "execution_count": 3,
      "outputs": [
        {
          "output_type": "execute_result",
          "data": {
            "text/plain": [
              "array([[5.1, 3.5, 1.4, 0.2],\n",
              "       [4.9, 3.0, 1.4, 0.2],\n",
              "       [4.7, 3.2, 1.3, 0.2],\n",
              "       [4.6, 3.1, 1.5, 0.2]], dtype=object)"
            ]
          },
          "metadata": {},
          "execution_count": 3
        }
      ]
    },
    {
      "cell_type": "code",
      "source": [
        "X = X.astype('float32')\n",
        "X[0:4]"
      ],
      "metadata": {
        "colab": {
          "base_uri": "https://localhost:8080/"
        },
        "id": "jvl__vmn3bJd",
        "outputId": "aaba0267-8df3-49b7-fb10-d7c0b8d0e9fd"
      },
      "execution_count": 4,
      "outputs": [
        {
          "output_type": "execute_result",
          "data": {
            "text/plain": [
              "array([[5.1, 3.5, 1.4, 0.2],\n",
              "       [4.9, 3. , 1.4, 0.2],\n",
              "       [4.7, 3.2, 1.3, 0.2],\n",
              "       [4.6, 3.1, 1.5, 0.2]], dtype=float32)"
            ]
          },
          "metadata": {},
          "execution_count": 4
        }
      ]
    },
    {
      "cell_type": "code",
      "source": [
        "from sklearn.preprocessing import LabelEncoder\n",
        "y = LabelEncoder().fit_transform(y)\n",
        "y"
      ],
      "metadata": {
        "colab": {
          "base_uri": "https://localhost:8080/"
        },
        "id": "KC2DWQG13kVa",
        "outputId": "278a8c3c-fd4e-4960-c0f7-abb8f50a9e90"
      },
      "execution_count": 5,
      "outputs": [
        {
          "output_type": "execute_result",
          "data": {
            "text/plain": [
              "array([0, 0, 0, 0, 0, 0, 0, 0, 0, 0, 0, 0, 0, 0, 0, 0, 0, 0, 0, 0, 0, 0,\n",
              "       0, 0, 0, 0, 0, 0, 0, 0, 0, 0, 0, 0, 0, 0, 0, 0, 0, 0, 0, 0, 0, 0,\n",
              "       0, 0, 0, 0, 0, 0, 1, 1, 1, 1, 1, 1, 1, 1, 1, 1, 1, 1, 1, 1, 1, 1,\n",
              "       1, 1, 1, 1, 1, 1, 1, 1, 1, 1, 1, 1, 1, 1, 1, 1, 1, 1, 1, 1, 1, 1,\n",
              "       1, 1, 1, 1, 1, 1, 1, 1, 1, 1, 1, 1, 2, 2, 2, 2, 2, 2, 2, 2, 2, 2,\n",
              "       2, 2, 2, 2, 2, 2, 2, 2, 2, 2, 2, 2, 2, 2, 2, 2, 2, 2, 2, 2, 2, 2,\n",
              "       2, 2, 2, 2, 2, 2, 2, 2, 2, 2, 2, 2, 2, 2, 2, 2, 2, 2])"
            ]
          },
          "metadata": {},
          "execution_count": 5
        }
      ]
    },
    {
      "cell_type": "markdown",
      "source": [
        "### Split Data menjadi training dan testing dataset"
      ],
      "metadata": {
        "id": "gZ1W7_qb3-w1"
      }
    },
    {
      "cell_type": "code",
      "source": [
        "from sklearn.model_selection import train_test_split"
      ],
      "metadata": {
        "id": "a3lVfMcI4G0l"
      },
      "execution_count": 6,
      "outputs": []
    },
    {
      "cell_type": "code",
      "source": [
        "X_train, X_test, y_train, y_test = train_test_split(X, y, test_size=0.2, random_state=42)\n",
        "\n",
        "print('Ukuran x train :', X_train.shape)\n",
        "print('Ukuran y train :', y_train.shape)\n",
        "print()\n",
        "print('Ukuran x test :', X_test.shape)\n",
        "print('Ukuran y test :', y_test.shape)"
      ],
      "metadata": {
        "colab": {
          "base_uri": "https://localhost:8080/"
        },
        "id": "nR2nh2dE4Ll4",
        "outputId": "e1847c5d-cb7c-439d-fd3a-2a46300e419c"
      },
      "execution_count": 7,
      "outputs": [
        {
          "output_type": "stream",
          "name": "stdout",
          "text": [
            "Ukuran x train : (120, 4)\n",
            "Ukuran y train : (120,)\n",
            "\n",
            "Ukuran x test : (30, 4)\n",
            "Ukuran y test : (30,)\n"
          ]
        }
      ]
    },
    {
      "cell_type": "markdown",
      "source": [
        "# Deep Learning Model Life-Cycle"
      ],
      "metadata": {
        "id": "PJEuONb9455n"
      }
    },
    {
      "cell_type": "markdown",
      "source": [
        "Define Model"
      ],
      "metadata": {
        "id": "3wCMAhvi5DK_"
      }
    },
    {
      "cell_type": "code",
      "source": [
        "import tensorflow as tf\n",
        "from tensorflow.keras import layers\n",
        "from tensorflow.keras import Sequential, Model, Input\n",
        "from tensorflow.keras.layers import Dense"
      ],
      "metadata": {
        "id": "bQBBAxLn44fv"
      },
      "execution_count": 8,
      "outputs": []
    },
    {
      "cell_type": "markdown",
      "source": [
        "DEFINE MODEL SEQUENTIAL API 1"
      ],
      "metadata": {
        "id": "Ws-_BPCQ505W"
      }
    },
    {
      "cell_type": "code",
      "source": [
        "model = Sequential([\n",
        "    Input(shape=(4,)),\n",
        "    Dense(3, activation='relu'),\n",
        "    Dense(3, activation='relu'),\n",
        "    Dense(3, activation='softmax'),\n",
        "], name='Sequential_API_1')"
      ],
      "metadata": {
        "id": "4oUAu3p-5XxB"
      },
      "execution_count": 9,
      "outputs": []
    },
    {
      "cell_type": "markdown",
      "source": [
        "DEFINE MODEL SEQUENTIAL API 2"
      ],
      "metadata": {
        "id": "vOAnKc1754Rt"
      }
    },
    {
      "cell_type": "code",
      "source": [
        "model = Sequential(name='Sequential_API_2')\n",
        "model.add(Input(shape=(4,)))  # Pass the shape as a tuple (4,)\n",
        "model.add(Dense(3, activation='relu'))\n",
        "model.add(Dense(3, activation='relu'))\n",
        "model.add(Dense(3, activation='softmax'))"
      ],
      "metadata": {
        "id": "FpUMLasY5zJ_"
      },
      "execution_count": 11,
      "outputs": []
    },
    {
      "cell_type": "markdown",
      "source": [
        "DEFINE MODEL FUNCTIONAL API"
      ],
      "metadata": {
        "id": "YBThjS5Q6Y32"
      }
    },
    {
      "cell_type": "code",
      "source": [
        "input_layer = Input(shape=(4,))\n",
        "hid_layer_1 = Dense(3, activation='relu')(input_layer)\n",
        "hid_layer_2 = Dense(3, activation='relu')(hid_layer_1)\n",
        "output_layer = Dense(3, activation='softmax')(hid_layer_2)\n",
        "\n",
        "model = Model(inputs=input_layer, outputs=output_layer, name='Functional_API')"
      ],
      "metadata": {
        "id": "jituPS2m6dFX"
      },
      "execution_count": 12,
      "outputs": []
    },
    {
      "cell_type": "markdown",
      "source": [
        "Model Text Decsription"
      ],
      "metadata": {
        "id": "PKsVyG6V-IGM"
      }
    },
    {
      "cell_type": "code",
      "source": [
        "model.summary()"
      ],
      "metadata": {
        "colab": {
          "base_uri": "https://localhost:8080/",
          "height": 267
        },
        "id": "CDeQ9dmN-Gku",
        "outputId": "2cf8adbf-7867-4058-b83c-1d6727db8c74"
      },
      "execution_count": 13,
      "outputs": [
        {
          "output_type": "display_data",
          "data": {
            "text/plain": [
              "\u001b[1mModel: \"Functional_API\"\u001b[0m\n"
            ],
            "text/html": [
              "<pre style=\"white-space:pre;overflow-x:auto;line-height:normal;font-family:Menlo,'DejaVu Sans Mono',consolas,'Courier New',monospace\"><span style=\"font-weight: bold\">Model: \"Functional_API\"</span>\n",
              "</pre>\n"
            ]
          },
          "metadata": {}
        },
        {
          "output_type": "display_data",
          "data": {
            "text/plain": [
              "┏━━━━━━━━━━━━━━━━━━━━━━━━━━━━━━━━━━━━━━┳━━━━━━━━━━━━━━━━━━━━━━━━━━━━━┳━━━━━━━━━━━━━━━━━┓\n",
              "┃\u001b[1m \u001b[0m\u001b[1mLayer (type)                        \u001b[0m\u001b[1m \u001b[0m┃\u001b[1m \u001b[0m\u001b[1mOutput Shape               \u001b[0m\u001b[1m \u001b[0m┃\u001b[1m \u001b[0m\u001b[1m        Param #\u001b[0m\u001b[1m \u001b[0m┃\n",
              "┡━━━━━━━━━━━━━━━━━━━━━━━━━━━━━━━━━━━━━━╇━━━━━━━━━━━━━━━━━━━━━━━━━━━━━╇━━━━━━━━━━━━━━━━━┩\n",
              "│ input_layer_3 (\u001b[38;5;33mInputLayer\u001b[0m)           │ (\u001b[38;5;45mNone\u001b[0m, \u001b[38;5;34m4\u001b[0m)                   │               \u001b[38;5;34m0\u001b[0m │\n",
              "├──────────────────────────────────────┼─────────────────────────────┼─────────────────┤\n",
              "│ dense_6 (\u001b[38;5;33mDense\u001b[0m)                      │ (\u001b[38;5;45mNone\u001b[0m, \u001b[38;5;34m3\u001b[0m)                   │              \u001b[38;5;34m15\u001b[0m │\n",
              "├──────────────────────────────────────┼─────────────────────────────┼─────────────────┤\n",
              "│ dense_7 (\u001b[38;5;33mDense\u001b[0m)                      │ (\u001b[38;5;45mNone\u001b[0m, \u001b[38;5;34m3\u001b[0m)                   │              \u001b[38;5;34m12\u001b[0m │\n",
              "├──────────────────────────────────────┼─────────────────────────────┼─────────────────┤\n",
              "│ dense_8 (\u001b[38;5;33mDense\u001b[0m)                      │ (\u001b[38;5;45mNone\u001b[0m, \u001b[38;5;34m3\u001b[0m)                   │              \u001b[38;5;34m12\u001b[0m │\n",
              "└──────────────────────────────────────┴─────────────────────────────┴─────────────────┘\n"
            ],
            "text/html": [
              "<pre style=\"white-space:pre;overflow-x:auto;line-height:normal;font-family:Menlo,'DejaVu Sans Mono',consolas,'Courier New',monospace\">┏━━━━━━━━━━━━━━━━━━━━━━━━━━━━━━━━━━━━━━┳━━━━━━━━━━━━━━━━━━━━━━━━━━━━━┳━━━━━━━━━━━━━━━━━┓\n",
              "┃<span style=\"font-weight: bold\"> Layer (type)                         </span>┃<span style=\"font-weight: bold\"> Output Shape                </span>┃<span style=\"font-weight: bold\">         Param # </span>┃\n",
              "┡━━━━━━━━━━━━━━━━━━━━━━━━━━━━━━━━━━━━━━╇━━━━━━━━━━━━━━━━━━━━━━━━━━━━━╇━━━━━━━━━━━━━━━━━┩\n",
              "│ input_layer_3 (<span style=\"color: #0087ff; text-decoration-color: #0087ff\">InputLayer</span>)           │ (<span style=\"color: #00d7ff; text-decoration-color: #00d7ff\">None</span>, <span style=\"color: #00af00; text-decoration-color: #00af00\">4</span>)                   │               <span style=\"color: #00af00; text-decoration-color: #00af00\">0</span> │\n",
              "├──────────────────────────────────────┼─────────────────────────────┼─────────────────┤\n",
              "│ dense_6 (<span style=\"color: #0087ff; text-decoration-color: #0087ff\">Dense</span>)                      │ (<span style=\"color: #00d7ff; text-decoration-color: #00d7ff\">None</span>, <span style=\"color: #00af00; text-decoration-color: #00af00\">3</span>)                   │              <span style=\"color: #00af00; text-decoration-color: #00af00\">15</span> │\n",
              "├──────────────────────────────────────┼─────────────────────────────┼─────────────────┤\n",
              "│ dense_7 (<span style=\"color: #0087ff; text-decoration-color: #0087ff\">Dense</span>)                      │ (<span style=\"color: #00d7ff; text-decoration-color: #00d7ff\">None</span>, <span style=\"color: #00af00; text-decoration-color: #00af00\">3</span>)                   │              <span style=\"color: #00af00; text-decoration-color: #00af00\">12</span> │\n",
              "├──────────────────────────────────────┼─────────────────────────────┼─────────────────┤\n",
              "│ dense_8 (<span style=\"color: #0087ff; text-decoration-color: #0087ff\">Dense</span>)                      │ (<span style=\"color: #00d7ff; text-decoration-color: #00d7ff\">None</span>, <span style=\"color: #00af00; text-decoration-color: #00af00\">3</span>)                   │              <span style=\"color: #00af00; text-decoration-color: #00af00\">12</span> │\n",
              "└──────────────────────────────────────┴─────────────────────────────┴─────────────────┘\n",
              "</pre>\n"
            ]
          },
          "metadata": {}
        },
        {
          "output_type": "display_data",
          "data": {
            "text/plain": [
              "\u001b[1m Total params: \u001b[0m\u001b[38;5;34m39\u001b[0m (156.00 B)\n"
            ],
            "text/html": [
              "<pre style=\"white-space:pre;overflow-x:auto;line-height:normal;font-family:Menlo,'DejaVu Sans Mono',consolas,'Courier New',monospace\"><span style=\"font-weight: bold\"> Total params: </span><span style=\"color: #00af00; text-decoration-color: #00af00\">39</span> (156.00 B)\n",
              "</pre>\n"
            ]
          },
          "metadata": {}
        },
        {
          "output_type": "display_data",
          "data": {
            "text/plain": [
              "\u001b[1m Trainable params: \u001b[0m\u001b[38;5;34m39\u001b[0m (156.00 B)\n"
            ],
            "text/html": [
              "<pre style=\"white-space:pre;overflow-x:auto;line-height:normal;font-family:Menlo,'DejaVu Sans Mono',consolas,'Courier New',monospace\"><span style=\"font-weight: bold\"> Trainable params: </span><span style=\"color: #00af00; text-decoration-color: #00af00\">39</span> (156.00 B)\n",
              "</pre>\n"
            ]
          },
          "metadata": {}
        },
        {
          "output_type": "display_data",
          "data": {
            "text/plain": [
              "\u001b[1m Non-trainable params: \u001b[0m\u001b[38;5;34m0\u001b[0m (0.00 B)\n"
            ],
            "text/html": [
              "<pre style=\"white-space:pre;overflow-x:auto;line-height:normal;font-family:Menlo,'DejaVu Sans Mono',consolas,'Courier New',monospace\"><span style=\"font-weight: bold\"> Non-trainable params: </span><span style=\"color: #00af00; text-decoration-color: #00af00\">0</span> (0.00 B)\n",
              "</pre>\n"
            ]
          },
          "metadata": {}
        }
      ]
    },
    {
      "cell_type": "markdown",
      "source": [
        "Model Architecture Plot"
      ],
      "metadata": {
        "id": "B9-DUmBT-PYB"
      }
    },
    {
      "cell_type": "code",
      "source": [
        "from tensorflow.keras.utils import plot_model"
      ],
      "metadata": {
        "id": "RQT9O2XF90L1"
      },
      "execution_count": 14,
      "outputs": []
    },
    {
      "cell_type": "code",
      "source": [
        "plot_model(model, 'model.png', show_shapes=True)"
      ],
      "metadata": {
        "colab": {
          "base_uri": "https://localhost:8080/",
          "height": 1000
        },
        "id": "M8Nnik_G-YzC",
        "outputId": "4112cff4-b3ac-408c-e185-8400c0e679b2"
      },
      "execution_count": 15,
      "outputs": [
        {
          "output_type": "execute_result",
          "data": {
            "image/png": "[encoded data removed]",
            "text/plain": [
              "<IPython.core.display.Image object>"
            ]
          },
          "metadata": {},
          "execution_count": 15
        }
      ]
    },
    {
      "cell_type": "markdown",
      "source": [
        "Compile model"
      ],
      "metadata": {
        "id": "fS31qeDU-f2D"
      }
    },
    {
      "cell_type": "code",
      "source": [
        "from tensorflow.keras.optimizers import Adam\n",
        "from tensorflow.keras.losses import SparseCategoricalCrossentropy"
      ],
      "metadata": {
        "id": "OY16DX_D-ixc"
      },
      "execution_count": 16,
      "outputs": []
    },
    {
      "cell_type": "code",
      "source": [
        "model.compile(\n",
        "    optimizer = Adam(learning_rate=0.001),\n",
        "    loss = SparseCategoricalCrossentropy(),\n",
        "    metrics =['Accuracy']\n",
        ")"
      ],
      "metadata": {
        "id": "4Bmr51GS-1GR"
      },
      "execution_count": 17,
      "outputs": []
    },
    {
      "cell_type": "code",
      "source": [
        "history = model.fit(\n",
        "    x = X_train,\n",
        "    y = y_train,\n",
        "    validation_data = (X_test, y_test),\n",
        "    batch_size = 32,\n",
        "    epochs = 200,\n",
        "    verbose = 2\n",
        ")\n"
      ],
      "metadata": {
        "colab": {
          "base_uri": "https://localhost:8080/"
        },
        "id": "ipBYb7aC_FDu",
        "outputId": "1686bb55-5760-4103-b147-e698c2b639e8"
      },
      "execution_count": 22,
      "outputs": [
        {
          "output_type": "stream",
          "name": "stdout",
          "text": [
            "Epoch 1/200\n",
            "4/4 - 0s - 57ms/step - Accuracy: 0.9333 - loss: 0.4551 - val_Accuracy: 0.9333 - val_loss: 0.4424\n",
            "Epoch 2/200\n",
            "4/4 - 0s - 47ms/step - Accuracy: 0.9250 - loss: 0.4528 - val_Accuracy: 0.9333 - val_loss: 0.4403\n",
            "Epoch 3/200\n",
            "4/4 - 0s - 13ms/step - Accuracy: 0.9250 - loss: 0.4508 - val_Accuracy: 0.9333 - val_loss: 0.4381\n",
            "Epoch 4/200\n",
            "4/4 - 0s - 19ms/step - Accuracy: 0.9250 - loss: 0.4489 - val_Accuracy: 0.9333 - val_loss: 0.4361\n",
            "Epoch 5/200\n",
            "4/4 - 0s - 13ms/step - Accuracy: 0.9250 - loss: 0.4467 - val_Accuracy: 0.9333 - val_loss: 0.4341\n",
            "Epoch 6/200\n",
            "4/4 - 0s - 13ms/step - Accuracy: 0.9417 - loss: 0.4447 - val_Accuracy: 0.9333 - val_loss: 0.4322\n",
            "Epoch 7/200\n",
            "4/4 - 0s - 14ms/step - Accuracy: 0.9417 - loss: 0.4427 - val_Accuracy: 0.9333 - val_loss: 0.4303\n",
            "Epoch 8/200\n",
            "4/4 - 0s - 13ms/step - Accuracy: 0.9417 - loss: 0.4408 - val_Accuracy: 0.9333 - val_loss: 0.4283\n",
            "Epoch 9/200\n",
            "4/4 - 0s - 13ms/step - Accuracy: 0.9500 - loss: 0.4387 - val_Accuracy: 0.9333 - val_loss: 0.4265\n",
            "Epoch 10/200\n",
            "4/4 - 0s - 14ms/step - Accuracy: 0.9500 - loss: 0.4368 - val_Accuracy: 0.9333 - val_loss: 0.4246\n",
            "Epoch 11/200\n",
            "4/4 - 0s - 13ms/step - Accuracy: 0.9500 - loss: 0.4347 - val_Accuracy: 0.9333 - val_loss: 0.4223\n",
            "Epoch 12/200\n",
            "4/4 - 0s - 14ms/step - Accuracy: 0.9500 - loss: 0.4328 - val_Accuracy: 0.9333 - val_loss: 0.4204\n",
            "Epoch 13/200\n",
            "4/4 - 0s - 16ms/step - Accuracy: 0.9500 - loss: 0.4310 - val_Accuracy: 0.9333 - val_loss: 0.4183\n",
            "Epoch 14/200\n",
            "4/4 - 0s - 13ms/step - Accuracy: 0.9417 - loss: 0.4290 - val_Accuracy: 0.9333 - val_loss: 0.4164\n",
            "Epoch 15/200\n",
            "4/4 - 0s - 16ms/step - Accuracy: 0.9500 - loss: 0.4270 - val_Accuracy: 0.9333 - val_loss: 0.4144\n",
            "Epoch 16/200\n",
            "4/4 - 0s - 16ms/step - Accuracy: 0.9500 - loss: 0.4252 - val_Accuracy: 0.9333 - val_loss: 0.4126\n",
            "Epoch 17/200\n",
            "4/4 - 0s - 14ms/step - Accuracy: 0.9500 - loss: 0.4236 - val_Accuracy: 0.9333 - val_loss: 0.4104\n",
            "Epoch 18/200\n",
            "4/4 - 0s - 17ms/step - Accuracy: 0.9500 - loss: 0.4213 - val_Accuracy: 0.9333 - val_loss: 0.4085\n",
            "Epoch 19/200\n",
            "4/4 - 0s - 13ms/step - Accuracy: 0.9500 - loss: 0.4200 - val_Accuracy: 0.9333 - val_loss: 0.4071\n",
            "Epoch 20/200\n",
            "4/4 - 0s - 13ms/step - Accuracy: 0.9500 - loss: 0.4177 - val_Accuracy: 0.9333 - val_loss: 0.4051\n",
            "Epoch 21/200\n",
            "4/4 - 0s - 15ms/step - Accuracy: 0.9500 - loss: 0.4157 - val_Accuracy: 0.9333 - val_loss: 0.4033\n",
            "Epoch 22/200\n",
            "4/4 - 0s - 13ms/step - Accuracy: 0.9500 - loss: 0.4139 - val_Accuracy: 0.9333 - val_loss: 0.4014\n",
            "Epoch 23/200\n",
            "4/4 - 0s - 14ms/step - Accuracy: 0.9500 - loss: 0.4119 - val_Accuracy: 0.9333 - val_loss: 0.3995\n",
            "Epoch 24/200\n",
            "4/4 - 0s - 15ms/step - Accuracy: 0.9583 - loss: 0.4101 - val_Accuracy: 0.9333 - val_loss: 0.3978\n",
            "Epoch 25/200\n",
            "4/4 - 0s - 14ms/step - Accuracy: 0.9583 - loss: 0.4083 - val_Accuracy: 0.9333 - val_loss: 0.3959\n",
            "Epoch 26/200\n",
            "4/4 - 0s - 13ms/step - Accuracy: 0.9583 - loss: 0.4066 - val_Accuracy: 0.9333 - val_loss: 0.3940\n",
            "Epoch 27/200\n",
            "4/4 - 0s - 14ms/step - Accuracy: 0.9583 - loss: 0.4045 - val_Accuracy: 0.9333 - val_loss: 0.3921\n",
            "Epoch 28/200\n",
            "4/4 - 0s - 14ms/step - Accuracy: 0.9500 - loss: 0.4028 - val_Accuracy: 0.9333 - val_loss: 0.3900\n",
            "Epoch 29/200\n",
            "4/4 - 0s - 14ms/step - Accuracy: 0.9500 - loss: 0.4009 - val_Accuracy: 0.9333 - val_loss: 0.3881\n",
            "Epoch 30/200\n",
            "4/4 - 0s - 14ms/step - Accuracy: 0.9500 - loss: 0.3990 - val_Accuracy: 0.9333 - val_loss: 0.3861\n",
            "Epoch 31/200\n",
            "4/4 - 0s - 21ms/step - Accuracy: 0.9500 - loss: 0.3973 - val_Accuracy: 0.9333 - val_loss: 0.3840\n",
            "Epoch 32/200\n",
            "4/4 - 0s - 28ms/step - Accuracy: 0.9500 - loss: 0.3955 - val_Accuracy: 0.9333 - val_loss: 0.3822\n",
            "Epoch 33/200\n",
            "4/4 - 0s - 13ms/step - Accuracy: 0.9500 - loss: 0.3936 - val_Accuracy: 0.9333 - val_loss: 0.3803\n",
            "Epoch 34/200\n",
            "4/4 - 0s - 15ms/step - Accuracy: 0.9500 - loss: 0.3920 - val_Accuracy: 0.9333 - val_loss: 0.3785\n",
            "Epoch 35/200\n",
            "4/4 - 0s - 13ms/step - Accuracy: 0.9500 - loss: 0.3903 - val_Accuracy: 0.9333 - val_loss: 0.3766\n",
            "Epoch 36/200\n",
            "4/4 - 0s - 14ms/step - Accuracy: 0.9500 - loss: 0.3883 - val_Accuracy: 0.9333 - val_loss: 0.3748\n",
            "Epoch 37/200\n",
            "4/4 - 0s - 14ms/step - Accuracy: 0.9583 - loss: 0.3865 - val_Accuracy: 0.9333 - val_loss: 0.3732\n",
            "Epoch 38/200\n",
            "4/4 - 0s - 14ms/step - Accuracy: 0.9583 - loss: 0.3847 - val_Accuracy: 0.9333 - val_loss: 0.3714\n",
            "Epoch 39/200\n",
            "4/4 - 0s - 15ms/step - Accuracy: 0.9583 - loss: 0.3829 - val_Accuracy: 0.9333 - val_loss: 0.3696\n",
            "Epoch 40/200\n",
            "4/4 - 0s - 13ms/step - Accuracy: 0.9583 - loss: 0.3813 - val_Accuracy: 0.9333 - val_loss: 0.3677\n",
            "Epoch 41/200\n",
            "4/4 - 0s - 15ms/step - Accuracy: 0.9583 - loss: 0.3795 - val_Accuracy: 0.9667 - val_loss: 0.3661\n",
            "Epoch 42/200\n",
            "4/4 - 0s - 14ms/step - Accuracy: 0.9583 - loss: 0.3778 - val_Accuracy: 0.9667 - val_loss: 0.3646\n",
            "Epoch 43/200\n",
            "4/4 - 0s - 14ms/step - Accuracy: 0.9583 - loss: 0.3762 - val_Accuracy: 0.9667 - val_loss: 0.3629\n",
            "Epoch 44/200\n",
            "4/4 - 0s - 14ms/step - Accuracy: 0.9583 - loss: 0.3743 - val_Accuracy: 0.9667 - val_loss: 0.3608\n",
            "Epoch 45/200\n",
            "4/4 - 0s - 21ms/step - Accuracy: 0.9583 - loss: 0.3726 - val_Accuracy: 0.9667 - val_loss: 0.3591\n",
            "Epoch 46/200\n",
            "4/4 - 0s - 17ms/step - Accuracy: 0.9583 - loss: 0.3707 - val_Accuracy: 0.9333 - val_loss: 0.3571\n",
            "Epoch 47/200\n",
            "4/4 - 0s - 13ms/step - Accuracy: 0.9583 - loss: 0.3689 - val_Accuracy: 0.9333 - val_loss: 0.3553\n",
            "Epoch 48/200\n",
            "4/4 - 0s - 14ms/step - Accuracy: 0.9583 - loss: 0.3672 - val_Accuracy: 0.9667 - val_loss: 0.3536\n",
            "Epoch 49/200\n",
            "4/4 - 0s - 25ms/step - Accuracy: 0.9583 - loss: 0.3656 - val_Accuracy: 0.9667 - val_loss: 0.3518\n",
            "Epoch 50/200\n",
            "4/4 - 0s - 13ms/step - Accuracy: 0.9583 - loss: 0.3639 - val_Accuracy: 0.9667 - val_loss: 0.3502\n",
            "Epoch 51/200\n",
            "4/4 - 0s - 14ms/step - Accuracy: 0.9583 - loss: 0.3621 - val_Accuracy: 0.9667 - val_loss: 0.3484\n",
            "Epoch 52/200\n",
            "4/4 - 0s - 13ms/step - Accuracy: 0.9583 - loss: 0.3602 - val_Accuracy: 0.9667 - val_loss: 0.3468\n",
            "Epoch 53/200\n",
            "4/4 - 0s - 14ms/step - Accuracy: 0.9667 - loss: 0.3585 - val_Accuracy: 0.9667 - val_loss: 0.3452\n",
            "Epoch 54/200\n",
            "4/4 - 0s - 13ms/step - Accuracy: 0.9667 - loss: 0.3568 - val_Accuracy: 0.9667 - val_loss: 0.3434\n",
            "Epoch 55/200\n",
            "4/4 - 0s - 13ms/step - Accuracy: 0.9667 - loss: 0.3552 - val_Accuracy: 0.9667 - val_loss: 0.3420\n",
            "Epoch 56/200\n",
            "4/4 - 0s - 14ms/step - Accuracy: 0.9667 - loss: 0.3534 - val_Accuracy: 0.9667 - val_loss: 0.3402\n",
            "Epoch 57/200\n",
            "4/4 - 0s - 14ms/step - Accuracy: 0.9667 - loss: 0.3516 - val_Accuracy: 0.9667 - val_loss: 0.3385\n",
            "Epoch 58/200\n",
            "4/4 - 0s - 15ms/step - Accuracy: 0.9667 - loss: 0.3500 - val_Accuracy: 0.9667 - val_loss: 0.3367\n",
            "Epoch 59/200\n",
            "4/4 - 0s - 15ms/step - Accuracy: 0.9667 - loss: 0.3483 - val_Accuracy: 0.9667 - val_loss: 0.3352\n",
            "Epoch 60/200\n",
            "4/4 - 0s - 15ms/step - Accuracy: 0.9667 - loss: 0.3464 - val_Accuracy: 0.9667 - val_loss: 0.3336\n",
            "Epoch 61/200\n",
            "4/4 - 0s - 16ms/step - Accuracy: 0.9667 - loss: 0.3447 - val_Accuracy: 0.9667 - val_loss: 0.3320\n",
            "Epoch 62/200\n",
            "4/4 - 0s - 15ms/step - Accuracy: 0.9667 - loss: 0.3429 - val_Accuracy: 0.9667 - val_loss: 0.3303\n",
            "Epoch 63/200\n",
            "4/4 - 0s - 13ms/step - Accuracy: 0.9667 - loss: 0.3413 - val_Accuracy: 0.9667 - val_loss: 0.3287\n",
            "Epoch 64/200\n",
            "4/4 - 0s - 13ms/step - Accuracy: 0.9667 - loss: 0.3400 - val_Accuracy: 0.9667 - val_loss: 0.3273\n",
            "Epoch 65/200\n",
            "4/4 - 0s - 19ms/step - Accuracy: 0.9667 - loss: 0.3379 - val_Accuracy: 0.9667 - val_loss: 0.3257\n",
            "Epoch 66/200\n",
            "4/4 - 0s - 29ms/step - Accuracy: 0.9667 - loss: 0.3363 - val_Accuracy: 0.9667 - val_loss: 0.3239\n",
            "Epoch 67/200\n",
            "4/4 - 0s - 13ms/step - Accuracy: 0.9667 - loss: 0.3344 - val_Accuracy: 0.9667 - val_loss: 0.3223\n",
            "Epoch 68/200\n",
            "4/4 - 0s - 13ms/step - Accuracy: 0.9667 - loss: 0.3328 - val_Accuracy: 0.9667 - val_loss: 0.3207\n",
            "Epoch 69/200\n",
            "4/4 - 0s - 14ms/step - Accuracy: 0.9667 - loss: 0.3311 - val_Accuracy: 0.9667 - val_loss: 0.3190\n",
            "Epoch 70/200\n",
            "4/4 - 0s - 13ms/step - Accuracy: 0.9667 - loss: 0.3296 - val_Accuracy: 0.9667 - val_loss: 0.3174\n",
            "Epoch 71/200\n",
            "4/4 - 0s - 18ms/step - Accuracy: 0.9667 - loss: 0.3280 - val_Accuracy: 0.9667 - val_loss: 0.3161\n",
            "Epoch 72/200\n",
            "4/4 - 0s - 33ms/step - Accuracy: 0.9667 - loss: 0.3260 - val_Accuracy: 0.9667 - val_loss: 0.3145\n",
            "Epoch 73/200\n",
            "4/4 - 0s - 39ms/step - Accuracy: 0.9667 - loss: 0.3245 - val_Accuracy: 0.9667 - val_loss: 0.3128\n",
            "Epoch 74/200\n",
            "4/4 - 0s - 18ms/step - Accuracy: 0.9667 - loss: 0.3226 - val_Accuracy: 0.9667 - val_loss: 0.3113\n",
            "Epoch 75/200\n",
            "4/4 - 0s - 23ms/step - Accuracy: 0.9667 - loss: 0.3208 - val_Accuracy: 0.9667 - val_loss: 0.3096\n",
            "Epoch 76/200\n",
            "4/4 - 0s - 32ms/step - Accuracy: 0.9667 - loss: 0.3195 - val_Accuracy: 0.9667 - val_loss: 0.3081\n",
            "Epoch 77/200\n",
            "4/4 - 0s - 37ms/step - Accuracy: 0.9667 - loss: 0.3177 - val_Accuracy: 0.9667 - val_loss: 0.3067\n",
            "Epoch 78/200\n",
            "4/4 - 0s - 30ms/step - Accuracy: 0.9667 - loss: 0.3158 - val_Accuracy: 0.9667 - val_loss: 0.3051\n",
            "Epoch 79/200\n",
            "4/4 - 0s - 35ms/step - Accuracy: 0.9667 - loss: 0.3141 - val_Accuracy: 0.9667 - val_loss: 0.3035\n",
            "Epoch 80/200\n",
            "4/4 - 0s - 17ms/step - Accuracy: 0.9667 - loss: 0.3125 - val_Accuracy: 0.9667 - val_loss: 0.3019\n",
            "Epoch 81/200\n",
            "4/4 - 0s - 40ms/step - Accuracy: 0.9667 - loss: 0.3109 - val_Accuracy: 0.9667 - val_loss: 0.3004\n",
            "Epoch 82/200\n",
            "4/4 - 0s - 31ms/step - Accuracy: 0.9667 - loss: 0.3091 - val_Accuracy: 0.9667 - val_loss: 0.2988\n",
            "Epoch 83/200\n",
            "4/4 - 0s - 34ms/step - Accuracy: 0.9583 - loss: 0.3077 - val_Accuracy: 0.9667 - val_loss: 0.2974\n",
            "Epoch 84/200\n",
            "4/4 - 0s - 34ms/step - Accuracy: 0.9583 - loss: 0.3059 - val_Accuracy: 0.9667 - val_loss: 0.2958\n",
            "Epoch 85/200\n",
            "4/4 - 0s - 20ms/step - Accuracy: 0.9583 - loss: 0.3040 - val_Accuracy: 0.9667 - val_loss: 0.2941\n",
            "Epoch 86/200\n",
            "4/4 - 0s - 32ms/step - Accuracy: 0.9667 - loss: 0.3024 - val_Accuracy: 0.9667 - val_loss: 0.2925\n",
            "Epoch 87/200\n",
            "4/4 - 0s - 23ms/step - Accuracy: 0.9667 - loss: 0.3009 - val_Accuracy: 0.9667 - val_loss: 0.2910\n",
            "Epoch 88/200\n",
            "4/4 - 0s - 30ms/step - Accuracy: 0.9667 - loss: 0.2992 - val_Accuracy: 0.9667 - val_loss: 0.2895\n",
            "Epoch 89/200\n",
            "4/4 - 0s - 34ms/step - Accuracy: 0.9667 - loss: 0.2974 - val_Accuracy: 0.9667 - val_loss: 0.2880\n",
            "Epoch 90/200\n",
            "4/4 - 0s - 22ms/step - Accuracy: 0.9583 - loss: 0.2959 - val_Accuracy: 0.9667 - val_loss: 0.2865\n",
            "Epoch 91/200\n",
            "4/4 - 0s - 26ms/step - Accuracy: 0.9583 - loss: 0.2941 - val_Accuracy: 0.9667 - val_loss: 0.2850\n",
            "Epoch 92/200\n",
            "4/4 - 0s - 31ms/step - Accuracy: 0.9583 - loss: 0.2924 - val_Accuracy: 0.9667 - val_loss: 0.2834\n",
            "Epoch 93/200\n",
            "4/4 - 0s - 25ms/step - Accuracy: 0.9667 - loss: 0.2911 - val_Accuracy: 0.9667 - val_loss: 0.2819\n",
            "Epoch 94/200\n",
            "4/4 - 0s - 16ms/step - Accuracy: 0.9667 - loss: 0.2892 - val_Accuracy: 0.9667 - val_loss: 0.2804\n",
            "Epoch 95/200\n",
            "4/4 - 0s - 33ms/step - Accuracy: 0.9667 - loss: 0.2880 - val_Accuracy: 0.9667 - val_loss: 0.2791\n",
            "Epoch 96/200\n",
            "4/4 - 0s - 14ms/step - Accuracy: 0.9583 - loss: 0.2867 - val_Accuracy: 0.9667 - val_loss: 0.2778\n",
            "Epoch 97/200\n",
            "4/4 - 0s - 13ms/step - Accuracy: 0.9583 - loss: 0.2844 - val_Accuracy: 0.9667 - val_loss: 0.2762\n",
            "Epoch 98/200\n",
            "4/4 - 0s - 13ms/step - Accuracy: 0.9583 - loss: 0.2827 - val_Accuracy: 0.9667 - val_loss: 0.2747\n",
            "Epoch 99/200\n",
            "4/4 - 0s - 15ms/step - Accuracy: 0.9667 - loss: 0.2816 - val_Accuracy: 0.9667 - val_loss: 0.2731\n",
            "Epoch 100/200\n",
            "4/4 - 0s - 17ms/step - Accuracy: 0.9667 - loss: 0.2796 - val_Accuracy: 0.9667 - val_loss: 0.2717\n",
            "Epoch 101/200\n",
            "4/4 - 0s - 15ms/step - Accuracy: 0.9583 - loss: 0.2781 - val_Accuracy: 0.9667 - val_loss: 0.2703\n",
            "Epoch 102/200\n",
            "4/4 - 0s - 13ms/step - Accuracy: 0.9583 - loss: 0.2765 - val_Accuracy: 0.9667 - val_loss: 0.2688\n",
            "Epoch 103/200\n",
            "4/4 - 0s - 14ms/step - Accuracy: 0.9583 - loss: 0.2747 - val_Accuracy: 0.9667 - val_loss: 0.2674\n",
            "Epoch 104/200\n",
            "4/4 - 0s - 13ms/step - Accuracy: 0.9583 - loss: 0.2735 - val_Accuracy: 0.9667 - val_loss: 0.2661\n",
            "Epoch 105/200\n",
            "4/4 - 0s - 14ms/step - Accuracy: 0.9583 - loss: 0.2717 - val_Accuracy: 0.9667 - val_loss: 0.2646\n",
            "Epoch 106/200\n",
            "4/4 - 0s - 15ms/step - Accuracy: 0.9583 - loss: 0.2701 - val_Accuracy: 0.9667 - val_loss: 0.2633\n",
            "Epoch 107/200\n",
            "4/4 - 0s - 14ms/step - Accuracy: 0.9583 - loss: 0.2684 - val_Accuracy: 0.9667 - val_loss: 0.2618\n",
            "Epoch 108/200\n",
            "4/4 - 0s - 14ms/step - Accuracy: 0.9583 - loss: 0.2673 - val_Accuracy: 0.9667 - val_loss: 0.2605\n",
            "Epoch 109/200\n",
            "4/4 - 0s - 14ms/step - Accuracy: 0.9667 - loss: 0.2653 - val_Accuracy: 0.9667 - val_loss: 0.2591\n",
            "Epoch 110/200\n",
            "4/4 - 0s - 14ms/step - Accuracy: 0.9583 - loss: 0.2645 - val_Accuracy: 0.9667 - val_loss: 0.2577\n",
            "Epoch 111/200\n",
            "4/4 - 0s - 13ms/step - Accuracy: 0.9583 - loss: 0.2622 - val_Accuracy: 0.9667 - val_loss: 0.2563\n",
            "Epoch 112/200\n",
            "4/4 - 0s - 14ms/step - Accuracy: 0.9583 - loss: 0.2610 - val_Accuracy: 0.9667 - val_loss: 0.2550\n",
            "Epoch 113/200\n",
            "4/4 - 0s - 13ms/step - Accuracy: 0.9583 - loss: 0.2594 - val_Accuracy: 0.9667 - val_loss: 0.2537\n",
            "Epoch 114/200\n",
            "4/4 - 0s - 14ms/step - Accuracy: 0.9583 - loss: 0.2579 - val_Accuracy: 0.9667 - val_loss: 0.2523\n",
            "Epoch 115/200\n",
            "4/4 - 0s - 14ms/step - Accuracy: 0.9583 - loss: 0.2562 - val_Accuracy: 0.9667 - val_loss: 0.2510\n",
            "Epoch 116/200\n",
            "4/4 - 0s - 16ms/step - Accuracy: 0.9583 - loss: 0.2548 - val_Accuracy: 0.9667 - val_loss: 0.2496\n",
            "Epoch 117/200\n",
            "4/4 - 0s - 14ms/step - Accuracy: 0.9583 - loss: 0.2531 - val_Accuracy: 0.9667 - val_loss: 0.2483\n",
            "Epoch 118/200\n",
            "4/4 - 0s - 14ms/step - Accuracy: 0.9583 - loss: 0.2519 - val_Accuracy: 0.9667 - val_loss: 0.2470\n",
            "Epoch 119/200\n",
            "4/4 - 0s - 34ms/step - Accuracy: 0.9583 - loss: 0.2503 - val_Accuracy: 0.9667 - val_loss: 0.2457\n",
            "Epoch 120/200\n",
            "4/4 - 0s - 14ms/step - Accuracy: 0.9583 - loss: 0.2488 - val_Accuracy: 0.9667 - val_loss: 0.2445\n",
            "Epoch 121/200\n",
            "4/4 - 0s - 12ms/step - Accuracy: 0.9583 - loss: 0.2471 - val_Accuracy: 0.9667 - val_loss: 0.2432\n",
            "Epoch 122/200\n",
            "4/4 - 0s - 34ms/step - Accuracy: 0.9583 - loss: 0.2459 - val_Accuracy: 0.9667 - val_loss: 0.2419\n",
            "Epoch 123/200\n",
            "4/4 - 0s - 15ms/step - Accuracy: 0.9583 - loss: 0.2441 - val_Accuracy: 0.9667 - val_loss: 0.2407\n",
            "Epoch 124/200\n",
            "4/4 - 0s - 13ms/step - Accuracy: 0.9583 - loss: 0.2427 - val_Accuracy: 0.9667 - val_loss: 0.2394\n",
            "Epoch 125/200\n",
            "4/4 - 0s - 13ms/step - Accuracy: 0.9583 - loss: 0.2413 - val_Accuracy: 0.9667 - val_loss: 0.2382\n",
            "Epoch 126/200\n",
            "4/4 - 0s - 14ms/step - Accuracy: 0.9583 - loss: 0.2399 - val_Accuracy: 0.9667 - val_loss: 0.2370\n",
            "Epoch 127/200\n",
            "4/4 - 0s - 13ms/step - Accuracy: 0.9583 - loss: 0.2388 - val_Accuracy: 0.9667 - val_loss: 0.2358\n",
            "Epoch 128/200\n",
            "4/4 - 0s - 13ms/step - Accuracy: 0.9583 - loss: 0.2372 - val_Accuracy: 0.9667 - val_loss: 0.2346\n",
            "Epoch 129/200\n",
            "4/4 - 0s - 17ms/step - Accuracy: 0.9583 - loss: 0.2358 - val_Accuracy: 0.9667 - val_loss: 0.2333\n",
            "Epoch 130/200\n",
            "4/4 - 0s - 16ms/step - Accuracy: 0.9583 - loss: 0.2343 - val_Accuracy: 0.9667 - val_loss: 0.2321\n",
            "Epoch 131/200\n",
            "4/4 - 0s - 14ms/step - Accuracy: 0.9583 - loss: 0.2332 - val_Accuracy: 0.9667 - val_loss: 0.2309\n",
            "Epoch 132/200\n",
            "4/4 - 0s - 14ms/step - Accuracy: 0.9583 - loss: 0.2314 - val_Accuracy: 0.9667 - val_loss: 0.2298\n",
            "Epoch 133/200\n",
            "4/4 - 0s - 13ms/step - Accuracy: 0.9583 - loss: 0.2307 - val_Accuracy: 0.9667 - val_loss: 0.2286\n",
            "Epoch 134/200\n",
            "4/4 - 0s - 14ms/step - Accuracy: 0.9583 - loss: 0.2292 - val_Accuracy: 0.9667 - val_loss: 0.2275\n",
            "Epoch 135/200\n",
            "4/4 - 0s - 13ms/step - Accuracy: 0.9583 - loss: 0.2275 - val_Accuracy: 0.9667 - val_loss: 0.2263\n",
            "Epoch 136/200\n",
            "4/4 - 0s - 13ms/step - Accuracy: 0.9667 - loss: 0.2269 - val_Accuracy: 0.9667 - val_loss: 0.2255\n",
            "Epoch 137/200\n",
            "4/4 - 0s - 15ms/step - Accuracy: 0.9667 - loss: 0.2250 - val_Accuracy: 0.9667 - val_loss: 0.2242\n",
            "Epoch 138/200\n",
            "4/4 - 0s - 13ms/step - Accuracy: 0.9583 - loss: 0.2231 - val_Accuracy: 0.9667 - val_loss: 0.2229\n",
            "Epoch 139/200\n",
            "4/4 - 0s - 14ms/step - Accuracy: 0.9583 - loss: 0.2220 - val_Accuracy: 0.9667 - val_loss: 0.2219\n",
            "Epoch 140/200\n",
            "4/4 - 0s - 13ms/step - Accuracy: 0.9667 - loss: 0.2207 - val_Accuracy: 0.9667 - val_loss: 0.2208\n",
            "Epoch 141/200\n",
            "4/4 - 0s - 13ms/step - Accuracy: 0.9667 - loss: 0.2196 - val_Accuracy: 0.9667 - val_loss: 0.2197\n",
            "Epoch 142/200\n",
            "4/4 - 0s - 14ms/step - Accuracy: 0.9583 - loss: 0.2184 - val_Accuracy: 0.9667 - val_loss: 0.2186\n",
            "Epoch 143/200\n",
            "4/4 - 0s - 15ms/step - Accuracy: 0.9583 - loss: 0.2170 - val_Accuracy: 0.9667 - val_loss: 0.2175\n",
            "Epoch 144/200\n",
            "4/4 - 0s - 13ms/step - Accuracy: 0.9583 - loss: 0.2155 - val_Accuracy: 0.9667 - val_loss: 0.2164\n",
            "Epoch 145/200\n",
            "4/4 - 0s - 16ms/step - Accuracy: 0.9583 - loss: 0.2142 - val_Accuracy: 0.9667 - val_loss: 0.2154\n",
            "Epoch 146/200\n",
            "4/4 - 0s - 16ms/step - Accuracy: 0.9583 - loss: 0.2134 - val_Accuracy: 0.9667 - val_loss: 0.2144\n",
            "Epoch 147/200\n",
            "4/4 - 0s - 16ms/step - Accuracy: 0.9583 - loss: 0.2116 - val_Accuracy: 0.9667 - val_loss: 0.2133\n",
            "Epoch 148/200\n",
            "4/4 - 0s - 13ms/step - Accuracy: 0.9583 - loss: 0.2104 - val_Accuracy: 0.9667 - val_loss: 0.2123\n",
            "Epoch 149/200\n",
            "4/4 - 0s - 13ms/step - Accuracy: 0.9667 - loss: 0.2092 - val_Accuracy: 0.9667 - val_loss: 0.2113\n",
            "Epoch 150/200\n",
            "4/4 - 0s - 13ms/step - Accuracy: 0.9583 - loss: 0.2085 - val_Accuracy: 0.9667 - val_loss: 0.2103\n",
            "Epoch 151/200\n",
            "4/4 - 0s - 13ms/step - Accuracy: 0.9583 - loss: 0.2067 - val_Accuracy: 0.9667 - val_loss: 0.2093\n",
            "Epoch 152/200\n",
            "4/4 - 0s - 14ms/step - Accuracy: 0.9583 - loss: 0.2055 - val_Accuracy: 0.9667 - val_loss: 0.2083\n",
            "Epoch 153/200\n",
            "4/4 - 0s - 14ms/step - Accuracy: 0.9583 - loss: 0.2048 - val_Accuracy: 0.9667 - val_loss: 0.2074\n",
            "Epoch 154/200\n",
            "4/4 - 0s - 15ms/step - Accuracy: 0.9583 - loss: 0.2032 - val_Accuracy: 0.9667 - val_loss: 0.2063\n",
            "Epoch 155/200\n",
            "4/4 - 0s - 13ms/step - Accuracy: 0.9667 - loss: 0.2020 - val_Accuracy: 0.9667 - val_loss: 0.2054\n",
            "Epoch 156/200\n",
            "4/4 - 0s - 14ms/step - Accuracy: 0.9750 - loss: 0.2011 - val_Accuracy: 0.9667 - val_loss: 0.2044\n",
            "Epoch 157/200\n",
            "4/4 - 0s - 13ms/step - Accuracy: 0.9750 - loss: 0.1998 - val_Accuracy: 0.9667 - val_loss: 0.2035\n",
            "Epoch 158/200\n",
            "4/4 - 0s - 13ms/step - Accuracy: 0.9750 - loss: 0.1991 - val_Accuracy: 0.9667 - val_loss: 0.2027\n",
            "Epoch 159/200\n",
            "4/4 - 0s - 13ms/step - Accuracy: 0.9750 - loss: 0.1979 - val_Accuracy: 0.9667 - val_loss: 0.2017\n",
            "Epoch 160/200\n",
            "4/4 - 0s - 13ms/step - Accuracy: 0.9583 - loss: 0.1963 - val_Accuracy: 0.9667 - val_loss: 0.2008\n",
            "Epoch 161/200\n",
            "4/4 - 0s - 17ms/step - Accuracy: 0.9583 - loss: 0.1951 - val_Accuracy: 0.9667 - val_loss: 0.2000\n",
            "Epoch 162/200\n",
            "4/4 - 0s - 17ms/step - Accuracy: 0.9583 - loss: 0.1946 - val_Accuracy: 0.9667 - val_loss: 0.1992\n",
            "Epoch 163/200\n",
            "4/4 - 0s - 16ms/step - Accuracy: 0.9583 - loss: 0.1932 - val_Accuracy: 0.9667 - val_loss: 0.1981\n",
            "Epoch 164/200\n",
            "4/4 - 0s - 14ms/step - Accuracy: 0.9583 - loss: 0.1918 - val_Accuracy: 0.9667 - val_loss: 0.1972\n",
            "Epoch 165/200\n",
            "4/4 - 0s - 14ms/step - Accuracy: 0.9583 - loss: 0.1907 - val_Accuracy: 0.9667 - val_loss: 0.1963\n",
            "Epoch 166/200\n",
            "4/4 - 0s - 14ms/step - Accuracy: 0.9667 - loss: 0.1896 - val_Accuracy: 0.9667 - val_loss: 0.1955\n",
            "Epoch 167/200\n",
            "4/4 - 0s - 13ms/step - Accuracy: 0.9750 - loss: 0.1885 - val_Accuracy: 0.9667 - val_loss: 0.1946\n",
            "Epoch 168/200\n",
            "4/4 - 0s - 14ms/step - Accuracy: 0.9750 - loss: 0.1876 - val_Accuracy: 0.9667 - val_loss: 0.1938\n",
            "Epoch 169/200\n",
            "4/4 - 0s - 13ms/step - Accuracy: 0.9750 - loss: 0.1869 - val_Accuracy: 0.9667 - val_loss: 0.1930\n",
            "Epoch 170/200\n",
            "4/4 - 0s - 17ms/step - Accuracy: 0.9667 - loss: 0.1853 - val_Accuracy: 0.9667 - val_loss: 0.1921\n",
            "Epoch 171/200\n",
            "4/4 - 0s - 13ms/step - Accuracy: 0.9667 - loss: 0.1844 - val_Accuracy: 0.9667 - val_loss: 0.1913\n",
            "Epoch 172/200\n",
            "4/4 - 0s - 14ms/step - Accuracy: 0.9667 - loss: 0.1833 - val_Accuracy: 0.9667 - val_loss: 0.1905\n",
            "Epoch 173/200\n",
            "4/4 - 0s - 14ms/step - Accuracy: 0.9750 - loss: 0.1824 - val_Accuracy: 0.9667 - val_loss: 0.1897\n",
            "Epoch 174/200\n",
            "4/4 - 0s - 13ms/step - Accuracy: 0.9750 - loss: 0.1813 - val_Accuracy: 0.9667 - val_loss: 0.1889\n",
            "Epoch 175/200\n",
            "4/4 - 0s - 13ms/step - Accuracy: 0.9667 - loss: 0.1804 - val_Accuracy: 0.9667 - val_loss: 0.1882\n",
            "Epoch 176/200\n",
            "4/4 - 0s - 13ms/step - Accuracy: 0.9667 - loss: 0.1794 - val_Accuracy: 0.9667 - val_loss: 0.1874\n",
            "Epoch 177/200\n",
            "4/4 - 0s - 16ms/step - Accuracy: 0.9750 - loss: 0.1784 - val_Accuracy: 0.9667 - val_loss: 0.1865\n",
            "Epoch 178/200\n",
            "4/4 - 0s - 17ms/step - Accuracy: 0.9750 - loss: 0.1774 - val_Accuracy: 0.9667 - val_loss: 0.1858\n",
            "Epoch 179/200\n",
            "4/4 - 0s - 15ms/step - Accuracy: 0.9750 - loss: 0.1763 - val_Accuracy: 0.9667 - val_loss: 0.1850\n",
            "Epoch 180/200\n",
            "4/4 - 0s - 13ms/step - Accuracy: 0.9750 - loss: 0.1755 - val_Accuracy: 0.9667 - val_loss: 0.1843\n",
            "Epoch 181/200\n",
            "4/4 - 0s - 15ms/step - Accuracy: 0.9750 - loss: 0.1748 - val_Accuracy: 0.9667 - val_loss: 0.1836\n",
            "Epoch 182/200\n",
            "4/4 - 0s - 12ms/step - Accuracy: 0.9750 - loss: 0.1735 - val_Accuracy: 0.9667 - val_loss: 0.1829\n",
            "Epoch 183/200\n",
            "4/4 - 0s - 15ms/step - Accuracy: 0.9667 - loss: 0.1725 - val_Accuracy: 0.9667 - val_loss: 0.1822\n",
            "Epoch 184/200\n",
            "4/4 - 0s - 14ms/step - Accuracy: 0.9667 - loss: 0.1718 - val_Accuracy: 0.9667 - val_loss: 0.1816\n",
            "Epoch 185/200\n",
            "4/4 - 0s - 13ms/step - Accuracy: 0.9583 - loss: 0.1713 - val_Accuracy: 0.9667 - val_loss: 0.1810\n",
            "Epoch 186/200\n",
            "4/4 - 0s - 15ms/step - Accuracy: 0.9667 - loss: 0.1701 - val_Accuracy: 0.9667 - val_loss: 0.1801\n",
            "Epoch 187/200\n",
            "4/4 - 0s - 32ms/step - Accuracy: 0.9750 - loss: 0.1693 - val_Accuracy: 0.9667 - val_loss: 0.1793\n",
            "Epoch 188/200\n",
            "4/4 - 0s - 14ms/step - Accuracy: 0.9750 - loss: 0.1686 - val_Accuracy: 0.9667 - val_loss: 0.1786\n",
            "Epoch 189/200\n",
            "4/4 - 0s - 12ms/step - Accuracy: 0.9750 - loss: 0.1671 - val_Accuracy: 0.9667 - val_loss: 0.1780\n",
            "Epoch 190/200\n",
            "4/4 - 0s - 12ms/step - Accuracy: 0.9750 - loss: 0.1663 - val_Accuracy: 0.9667 - val_loss: 0.1773\n",
            "Epoch 191/200\n",
            "4/4 - 0s - 14ms/step - Accuracy: 0.9750 - loss: 0.1654 - val_Accuracy: 0.9667 - val_loss: 0.1766\n",
            "Epoch 192/200\n",
            "4/4 - 0s - 36ms/step - Accuracy: 0.9750 - loss: 0.1645 - val_Accuracy: 0.9667 - val_loss: 0.1760\n",
            "Epoch 193/200\n",
            "4/4 - 0s - 13ms/step - Accuracy: 0.9750 - loss: 0.1635 - val_Accuracy: 0.9667 - val_loss: 0.1754\n",
            "Epoch 194/200\n",
            "4/4 - 0s - 14ms/step - Accuracy: 0.9667 - loss: 0.1630 - val_Accuracy: 0.9667 - val_loss: 0.1748\n",
            "Epoch 195/200\n",
            "4/4 - 0s - 13ms/step - Accuracy: 0.9667 - loss: 0.1626 - val_Accuracy: 0.9667 - val_loss: 0.1745\n",
            "Epoch 196/200\n",
            "4/4 - 0s - 12ms/step - Accuracy: 0.9667 - loss: 0.1613 - val_Accuracy: 0.9667 - val_loss: 0.1736\n",
            "Epoch 197/200\n",
            "4/4 - 0s - 13ms/step - Accuracy: 0.9667 - loss: 0.1604 - val_Accuracy: 0.9667 - val_loss: 0.1728\n",
            "Epoch 198/200\n",
            "4/4 - 0s - 14ms/step - Accuracy: 0.9750 - loss: 0.1604 - val_Accuracy: 0.9667 - val_loss: 0.1723\n",
            "Epoch 199/200\n",
            "4/4 - 0s - 13ms/step - Accuracy: 0.9750 - loss: 0.1592 - val_Accuracy: 0.9667 - val_loss: 0.1716\n",
            "Epoch 200/200\n",
            "4/4 - 0s - 13ms/step - Accuracy: 0.9750 - loss: 0.1587 - val_Accuracy: 0.9667 - val_loss: 0.1710\n"
          ]
        }
      ]
    },
    {
      "cell_type": "markdown",
      "source": [
        "Ploting learning curves"
      ],
      "metadata": {
        "id": "clMFqF5NB_oH"
      }
    },
    {
      "cell_type": "code",
      "source": [
        "from matplotlib import pyplot"
      ],
      "metadata": {
        "id": "EmHkh2e_CC_c"
      },
      "execution_count": 23,
      "outputs": []
    },
    {
      "cell_type": "code",
      "source": [
        "model.compile(\n",
        "    optimizer = Adam(learning_rate=0.001),\n",
        "    loss = SparseCategoricalCrossentropy(),\n",
        "    metrics =['Accuracy']\n",
        ")"
      ],
      "metadata": {
        "id": "AYtBxS0FJEes"
      },
      "execution_count": 32,
      "outputs": []
    },
    {
      "cell_type": "code",
      "source": [
        "pyplot.title('Learning Curves')\n",
        "pyplot.xlabel('Epoch')\n",
        "pyplot.ylabel('Accuracy')\n",
        "pyplot.plot(history.history['Accuracy'], label='train')\n",
        "pyplot.plot(history.history['val_Accuracy'], label='val')\n",
        "pyplot.legend()\n",
        "pyplot.show()"
      ],
      "metadata": {
        "colab": {
          "base_uri": "https://localhost:8080/",
          "height": 472
        },
        "id": "YOFWKZwYCFsM",
        "outputId": "18ae8d1e-8265-4992-b009-c339cecf114e"
      },
      "execution_count": 31,
      "outputs": [
        {
          "output_type": "display_data",
          "data": {
            "text/plain": [
              "<Figure size 640x480 with 1 Axes>"
            ],
            "image/png": "[encoded data removed]"
          },
          "metadata": {}
        }
      ]
    },
    {
      "cell_type": "code",
      "source": [
        "pyplot.title('Learning Curves')\n",
        "pyplot.xlabel('Epoch')\n",
        "pyplot.ylabel('Accuracy')\n",
        "pyplot.plot(history.history['loss'], label='train loss')\n",
        "pyplot.plot(history.history['val_loss'], label='val loss')\n",
        "pyplot.legend()\n",
        "pyplot.show()"
      ],
      "metadata": {
        "colab": {
          "base_uri": "https://localhost:8080/",
          "height": 472
        },
        "id": "XuJfY1a5CoXr",
        "outputId": "3a9fab3c-3005-4455-d129-c61bd918a259"
      },
      "execution_count": 37,
      "outputs": [
        {
          "output_type": "display_data",
          "data": {
            "text/plain": [
              "<Figure size 640x480 with 1 Axes>"
            ],
            "image/png": "[encoded data removed]"
          },
          "metadata": {}
        }
      ]
    },
    {
      "cell_type": "markdown",
      "source": [
        "Evaluasi Model"
      ],
      "metadata": {
        "id": "ghyobugUC3KU"
      }
    },
    {
      "cell_type": "code",
      "source": [
        "loss, acc = model.evaluate(X_test, y_test, verbose=2)\n",
        "print(f'Test Accuracy: {acc}')"
      ],
      "metadata": {
        "colab": {
          "base_uri": "https://localhost:8080/"
        },
        "id": "zn3D-0AtC51a",
        "outputId": "a1699575-b00e-4b58-8170-c83eea2f1ace"
      },
      "execution_count": 38,
      "outputs": [
        {
          "output_type": "stream",
          "name": "stdout",
          "text": [
            "1/1 - 0s - 275ms/step - Accuracy: 0.9667 - loss: 0.1710\n",
            "Test Accuracy: 0.9666666388511658\n"
          ]
        }
      ]
    },
    {
      "cell_type": "markdown",
      "source": [
        "Bangun prediction"
      ],
      "metadata": {
        "id": "YxyBr_lPDAU1"
      }
    },
    {
      "cell_type": "code",
      "source": [
        "from numpy import argmax, array"
      ],
      "metadata": {
        "id": "Z3Xp-KURDD0o"
      },
      "execution_count": 41,
      "outputs": []
    },
    {
      "cell_type": "code",
      "source": [
        "#input data baru\n",
        "new_sepal_length = float(input('Input Sepal Length :'))\n",
        "new_sepal_width = float(input('Input Sepal width :'))\n",
        "new_petal_length = float(input('Input Petal Length :'))\n",
        "new_petal_width = float(input('Input Pepal Length :'))\n",
        "\n",
        "new_data = [new_sepal_length, new_sepal_width, new_petal_length, new_petal_width]\n",
        "\n",
        "# Reshape new_data into a 2D array with a single row\n",
        "new_data_reshaped = array([new_data])\n",
        "\n",
        "#prediksi data baru lalu cari classnya\n",
        "y_pred = model.predict(new_data_reshaped)\n",
        "y_class = argmax(y_pred)\n",
        "\n",
        "#cetak hasil prediksi\n",
        "print(f'\\nHasil Prediksi:{y_pred} (class={y_class}) \\n')\n",
        "\n",
        "if y_class == 0:\n",
        "  print('Iris Setosa')\n",
        "elif y_class == 1:\n",
        "  print('Iris Versicolor')\n",
        "elif y_class == 2:\n",
        "  print('Iris Virginica')"
      ],
      "metadata": {
        "colab": {
          "base_uri": "https://localhost:8080/"
        },
        "id": "DNwrwgkrDPFK",
        "outputId": "8f1e6a76-8264-48e1-8b43-88badcc99333"
      },
      "execution_count": 53,
      "outputs": [
        {
          "output_type": "stream",
          "name": "stdout",
          "text": [
            "Input Sepal Length :1\n",
            "Input Sepal width :2\n",
            "Input Petal Length :1\n",
            "Input Pepal Length :1\n",
            "\u001b[1m1/1\u001b[0m \u001b[32m━━━━━━━━━━━━━━━━━━━━\u001b[0m\u001b[37m\u001b[0m \u001b[1m0s\u001b[0m 21ms/step\n",
            "\n",
            "Hasil Prediksi:[[0.8048433  0.19201677 0.00314003]] (class=0) \n",
            "\n",
            "Iris Setosa\n"
          ]
        }
      ]
    },
    {
      "cell_type": "markdown",
      "source": [
        "Simpan Model"
      ],
      "metadata": {
        "id": "gQxF2WKVEwlQ"
      }
    },
    {
      "cell_type": "code",
      "source": [
        "model.save('model.h5')"
      ],
      "metadata": {
        "colab": {
          "base_uri": "https://localhost:8080/"
        },
        "id": "O1NEhefBEve_",
        "outputId": "b08847ee-459b-4b6a-ad56-a6090faba30c"
      },
      "execution_count": 54,
      "outputs": [
        {
          "output_type": "stream",
          "name": "stderr",
          "text": [
            "WARNING:absl:You are saving your model as an HDF5 file via `model.save()` or `keras.saving.save_model(model)`. This file format is considered legacy. We recommend using instead the native Keras format, e.g. `model.save('my_model.keras')` or `keras.saving.save_model(model, 'my_model.keras')`. \n"
          ]
        }
      ]
    },
    {
      "cell_type": "markdown",
      "source": [
        "Load Model"
      ],
      "metadata": {
        "id": "Fe3-0ZYIE40N"
      }
    },
    {
      "cell_type": "code",
      "source": [
        "import numpy as np"
      ],
      "metadata": {
        "id": "hj_mADYYLkVx"
      },
      "execution_count": 55,
      "outputs": []
    },
    {
      "cell_type": "code",
      "source": [
        "from tensorflow.keras.models import load_model"
      ],
      "metadata": {
        "id": "SNuuF87iE1ms"
      },
      "execution_count": 56,
      "outputs": []
    },
    {
      "cell_type": "markdown",
      "source": [],
      "metadata": {
        "id": "b14XrLI-MDiK"
      }
    },
    {
      "cell_type": "code",
      "source": [
        "model = load_model('model.h5')\n",
        "\n",
        "new_data = [5.1, 3.5, 1.4, 0.2]\n",
        "new_data = np.array(new_data).reshape(1,-1)\n",
        "y_pred = model.predict(new_data)\n",
        "print('\\nPredicted:{} (class={})'.format(y_pred, np.argmax(y_pred)))"
      ],
      "metadata": {
        "colab": {
          "base_uri": "https://localhost:8080/"
        },
        "id": "fEdpM9YxE_Bh",
        "outputId": "09c4fb81-f3e0-4ff1-e6c8-e45366ef7fd5"
      },
      "execution_count": 58,
      "outputs": [
        {
          "output_type": "stream",
          "name": "stderr",
          "text": [
            "WARNING:absl:Compiled the loaded model, but the compiled metrics have yet to be built. `model.compile_metrics` will be empty until you train or evaluate the model.\n",
            "WARNING:tensorflow:6 out of the last 7 calls to <function TensorFlowTrainer.make_predict_function.<locals>.one_step_on_data_distributed at 0x79b957e428c0> triggered tf.function retracing. Tracing is expensive and the excessive number of tracings could be due to (1) creating @tf.function repeatedly in a loop, (2) passing tensors with different shapes, (3) passing Python objects instead of tensors. For (1), please define your @tf.function outside of the loop. For (2), @tf.function has reduce_retracing=True option that can avoid unnecessary retracing. For (3), please refer to https://www.tensorflow.org/guide/function#controlling_retracing and https://www.tensorflow.org/api_docs/python/tf/function for  more details.\n"
          ]
        },
        {
          "output_type": "stream",
          "name": "stdout",
          "text": [
            "\u001b[1m1/1\u001b[0m \u001b[32m━━━━━━━━━━━━━━━━━━━━\u001b[0m\u001b[37m\u001b[0m \u001b[1m0s\u001b[0m 53ms/step\n",
            "\n",
            "Predicted:[[9.8597276e-01 1.4026961e-02 2.4971456e-07]] (class=0)\n"
          ]
        }
      ]
    },
    {
      "cell_type": "markdown",
      "source": [
        "# DL Techniques"
      ],
      "metadata": {
        "id": "is92Oth8Fdfp"
      }
    },
    {
      "cell_type": "markdown",
      "source": [
        "Dropout"
      ],
      "metadata": {
        "id": "3bznjqrjFmOp"
      }
    },
    {
      "cell_type": "code",
      "source": [
        "from tensorflow.keras.layers import Dropout"
      ],
      "metadata": {
        "id": "R542MerTFoLb"
      },
      "execution_count": 59,
      "outputs": []
    },
    {
      "cell_type": "code",
      "source": [
        "model = Sequential(name='Dropout_Example')\n",
        "model.add(Dense(100, input_shape=(10,)))\n",
        "model.add(Dense(80))\n",
        "model.add(Dropout(0.5)) #dropout 50% neuron dari hiden layer 2\n",
        "model.add(Dense(30))\n",
        "model.add(Dropout(0.4)) #dropout 40% neuron dari hiden layer 3\n",
        "model.add(Dense(10))\n",
        "model.add(Dropout(0.2)) #dropout 20% neuron dari hiden layer 4\n",
        "model.add(Dense(5))\n",
        "model.add(Dense(1))\n",
        "\n",
        "model.summary()"
      ],
      "metadata": {
        "colab": {
          "base_uri": "https://localhost:8080/",
          "height": 488
        },
        "id": "biweWHUgFuht",
        "outputId": "32f920bc-c6ba-49e7-9361-045b5e7e3745"
      },
      "execution_count": 60,
      "outputs": [
        {
          "output_type": "stream",
          "name": "stderr",
          "text": [
            "/usr/local/lib/python3.10/dist-packages/keras/src/layers/core/dense.py:87: UserWarning: Do not pass an `input_shape`/`input_dim` argument to a layer. When using Sequential models, prefer using an `Input(shape)` object as the first layer in the model instead.\n",
            "  super().__init__(activity_regularizer=activity_regularizer, **kwargs)\n"
          ]
        },
        {
          "output_type": "display_data",
          "data": {
            "text/plain": [
              "\u001b[1mModel: \"Dropout_Example\"\u001b[0m\n"
            ],
            "text/html": [
              "<pre style=\"white-space:pre;overflow-x:auto;line-height:normal;font-family:Menlo,'DejaVu Sans Mono',consolas,'Courier New',monospace\"><span style=\"font-weight: bold\">Model: \"Dropout_Example\"</span>\n",
              "</pre>\n"
            ]
          },
          "metadata": {}
        },
        {
          "output_type": "display_data",
          "data": {
            "text/plain": [
              "┏━━━━━━━━━━━━━━━━━━━━━━━━━━━━━━━━━━━━━━┳━━━━━━━━━━━━━━━━━━━━━━━━━━━━━┳━━━━━━━━━━━━━━━━━┓\n",
              "┃\u001b[1m \u001b[0m\u001b[1mLayer (type)                        \u001b[0m\u001b[1m \u001b[0m┃\u001b[1m \u001b[0m\u001b[1mOutput Shape               \u001b[0m\u001b[1m \u001b[0m┃\u001b[1m \u001b[0m\u001b[1m        Param #\u001b[0m\u001b[1m \u001b[0m┃\n",
              "┡━━━━━━━━━━━━━━━━━━━━━━━━━━━━━━━━━━━━━━╇━━━━━━━━━━━━━━━━━━━━━━━━━━━━━╇━━━━━━━━━━━━━━━━━┩\n",
              "│ dense_9 (\u001b[38;5;33mDense\u001b[0m)                      │ (\u001b[38;5;45mNone\u001b[0m, \u001b[38;5;34m100\u001b[0m)                 │           \u001b[38;5;34m1,100\u001b[0m │\n",
              "├──────────────────────────────────────┼─────────────────────────────┼─────────────────┤\n",
              "│ dense_10 (\u001b[38;5;33mDense\u001b[0m)                     │ (\u001b[38;5;45mNone\u001b[0m, \u001b[38;5;34m80\u001b[0m)                  │           \u001b[38;5;34m8,080\u001b[0m │\n",
              "├──────────────────────────────────────┼─────────────────────────────┼─────────────────┤\n",
              "│ dropout (\u001b[38;5;33mDropout\u001b[0m)                    │ (\u001b[38;5;45mNone\u001b[0m, \u001b[38;5;34m80\u001b[0m)                  │               \u001b[38;5;34m0\u001b[0m │\n",
              "├──────────────────────────────────────┼─────────────────────────────┼─────────────────┤\n",
              "│ dense_11 (\u001b[38;5;33mDense\u001b[0m)                     │ (\u001b[38;5;45mNone\u001b[0m, \u001b[38;5;34m30\u001b[0m)                  │           \u001b[38;5;34m2,430\u001b[0m │\n",
              "├──────────────────────────────────────┼─────────────────────────────┼─────────────────┤\n",
              "│ dropout_1 (\u001b[38;5;33mDropout\u001b[0m)                  │ (\u001b[38;5;45mNone\u001b[0m, \u001b[38;5;34m30\u001b[0m)                  │               \u001b[38;5;34m0\u001b[0m │\n",
              "├──────────────────────────────────────┼─────────────────────────────┼─────────────────┤\n",
              "│ dense_12 (\u001b[38;5;33mDense\u001b[0m)                     │ (\u001b[38;5;45mNone\u001b[0m, \u001b[38;5;34m10\u001b[0m)                  │             \u001b[38;5;34m310\u001b[0m │\n",
              "├──────────────────────────────────────┼─────────────────────────────┼─────────────────┤\n",
              "│ dropout_2 (\u001b[38;5;33mDropout\u001b[0m)                  │ (\u001b[38;5;45mNone\u001b[0m, \u001b[38;5;34m10\u001b[0m)                  │               \u001b[38;5;34m0\u001b[0m │\n",
              "├──────────────────────────────────────┼─────────────────────────────┼─────────────────┤\n",
              "│ dense_13 (\u001b[38;5;33mDense\u001b[0m)                     │ (\u001b[38;5;45mNone\u001b[0m, \u001b[38;5;34m5\u001b[0m)                   │              \u001b[38;5;34m55\u001b[0m │\n",
              "├──────────────────────────────────────┼─────────────────────────────┼─────────────────┤\n",
              "│ dense_14 (\u001b[38;5;33mDense\u001b[0m)                     │ (\u001b[38;5;45mNone\u001b[0m, \u001b[38;5;34m1\u001b[0m)                   │               \u001b[38;5;34m6\u001b[0m │\n",
              "└──────────────────────────────────────┴─────────────────────────────┴─────────────────┘\n"
            ],
            "text/html": [
              "<pre style=\"white-space:pre;overflow-x:auto;line-height:normal;font-family:Menlo,'DejaVu Sans Mono',consolas,'Courier New',monospace\">┏━━━━━━━━━━━━━━━━━━━━━━━━━━━━━━━━━━━━━━┳━━━━━━━━━━━━━━━━━━━━━━━━━━━━━┳━━━━━━━━━━━━━━━━━┓\n",
              "┃<span style=\"font-weight: bold\"> Layer (type)                         </span>┃<span style=\"font-weight: bold\"> Output Shape                </span>┃<span style=\"font-weight: bold\">         Param # </span>┃\n",
              "┡━━━━━━━━━━━━━━━━━━━━━━━━━━━━━━━━━━━━━━╇━━━━━━━━━━━━━━━━━━━━━━━━━━━━━╇━━━━━━━━━━━━━━━━━┩\n",
              "│ dense_9 (<span style=\"color: #0087ff; text-decoration-color: #0087ff\">Dense</span>)                      │ (<span style=\"color: #00d7ff; text-decoration-color: #00d7ff\">None</span>, <span style=\"color: #00af00; text-decoration-color: #00af00\">100</span>)                 │           <span style=\"color: #00af00; text-decoration-color: #00af00\">1,100</span> │\n",
              "├──────────────────────────────────────┼─────────────────────────────┼─────────────────┤\n",
              "│ dense_10 (<span style=\"color: #0087ff; text-decoration-color: #0087ff\">Dense</span>)                     │ (<span style=\"color: #00d7ff; text-decoration-color: #00d7ff\">None</span>, <span style=\"color: #00af00; text-decoration-color: #00af00\">80</span>)                  │           <span style=\"color: #00af00; text-decoration-color: #00af00\">8,080</span> │\n",
              "├──────────────────────────────────────┼─────────────────────────────┼─────────────────┤\n",
              "│ dropout (<span style=\"color: #0087ff; text-decoration-color: #0087ff\">Dropout</span>)                    │ (<span style=\"color: #00d7ff; text-decoration-color: #00d7ff\">None</span>, <span style=\"color: #00af00; text-decoration-color: #00af00\">80</span>)                  │               <span style=\"color: #00af00; text-decoration-color: #00af00\">0</span> │\n",
              "├──────────────────────────────────────┼─────────────────────────────┼─────────────────┤\n",
              "│ dense_11 (<span style=\"color: #0087ff; text-decoration-color: #0087ff\">Dense</span>)                     │ (<span style=\"color: #00d7ff; text-decoration-color: #00d7ff\">None</span>, <span style=\"color: #00af00; text-decoration-color: #00af00\">30</span>)                  │           <span style=\"color: #00af00; text-decoration-color: #00af00\">2,430</span> │\n",
              "├──────────────────────────────────────┼─────────────────────────────┼─────────────────┤\n",
              "│ dropout_1 (<span style=\"color: #0087ff; text-decoration-color: #0087ff\">Dropout</span>)                  │ (<span style=\"color: #00d7ff; text-decoration-color: #00d7ff\">None</span>, <span style=\"color: #00af00; text-decoration-color: #00af00\">30</span>)                  │               <span style=\"color: #00af00; text-decoration-color: #00af00\">0</span> │\n",
              "├──────────────────────────────────────┼─────────────────────────────┼─────────────────┤\n",
              "│ dense_12 (<span style=\"color: #0087ff; text-decoration-color: #0087ff\">Dense</span>)                     │ (<span style=\"color: #00d7ff; text-decoration-color: #00d7ff\">None</span>, <span style=\"color: #00af00; text-decoration-color: #00af00\">10</span>)                  │             <span style=\"color: #00af00; text-decoration-color: #00af00\">310</span> │\n",
              "├──────────────────────────────────────┼─────────────────────────────┼─────────────────┤\n",
              "│ dropout_2 (<span style=\"color: #0087ff; text-decoration-color: #0087ff\">Dropout</span>)                  │ (<span style=\"color: #00d7ff; text-decoration-color: #00d7ff\">None</span>, <span style=\"color: #00af00; text-decoration-color: #00af00\">10</span>)                  │               <span style=\"color: #00af00; text-decoration-color: #00af00\">0</span> │\n",
              "├──────────────────────────────────────┼─────────────────────────────┼─────────────────┤\n",
              "│ dense_13 (<span style=\"color: #0087ff; text-decoration-color: #0087ff\">Dense</span>)                     │ (<span style=\"color: #00d7ff; text-decoration-color: #00d7ff\">None</span>, <span style=\"color: #00af00; text-decoration-color: #00af00\">5</span>)                   │              <span style=\"color: #00af00; text-decoration-color: #00af00\">55</span> │\n",
              "├──────────────────────────────────────┼─────────────────────────────┼─────────────────┤\n",
              "│ dense_14 (<span style=\"color: #0087ff; text-decoration-color: #0087ff\">Dense</span>)                     │ (<span style=\"color: #00d7ff; text-decoration-color: #00d7ff\">None</span>, <span style=\"color: #00af00; text-decoration-color: #00af00\">1</span>)                   │               <span style=\"color: #00af00; text-decoration-color: #00af00\">6</span> │\n",
              "└──────────────────────────────────────┴─────────────────────────────┴─────────────────┘\n",
              "</pre>\n"
            ]
          },
          "metadata": {}
        },
        {
          "output_type": "display_data",
          "data": {
            "text/plain": [
              "\u001b[1m Total params: \u001b[0m\u001b[38;5;34m11,981\u001b[0m (46.80 KB)\n"
            ],
            "text/html": [
              "<pre style=\"white-space:pre;overflow-x:auto;line-height:normal;font-family:Menlo,'DejaVu Sans Mono',consolas,'Courier New',monospace\"><span style=\"font-weight: bold\"> Total params: </span><span style=\"color: #00af00; text-decoration-color: #00af00\">11,981</span> (46.80 KB)\n",
              "</pre>\n"
            ]
          },
          "metadata": {}
        },
        {
          "output_type": "display_data",
          "data": {
            "text/plain": [
              "\u001b[1m Trainable params: \u001b[0m\u001b[38;5;34m11,981\u001b[0m (46.80 KB)\n"
            ],
            "text/html": [
              "<pre style=\"white-space:pre;overflow-x:auto;line-height:normal;font-family:Menlo,'DejaVu Sans Mono',consolas,'Courier New',monospace\"><span style=\"font-weight: bold\"> Trainable params: </span><span style=\"color: #00af00; text-decoration-color: #00af00\">11,981</span> (46.80 KB)\n",
              "</pre>\n"
            ]
          },
          "metadata": {}
        },
        {
          "output_type": "display_data",
          "data": {
            "text/plain": [
              "\u001b[1m Non-trainable params: \u001b[0m\u001b[38;5;34m0\u001b[0m (0.00 B)\n"
            ],
            "text/html": [
              "<pre style=\"white-space:pre;overflow-x:auto;line-height:normal;font-family:Menlo,'DejaVu Sans Mono',consolas,'Courier New',monospace\"><span style=\"font-weight: bold\"> Non-trainable params: </span><span style=\"color: #00af00; text-decoration-color: #00af00\">0</span> (0.00 B)\n",
              "</pre>\n"
            ]
          },
          "metadata": {}
        }
      ]
    },
    {
      "cell_type": "markdown",
      "source": [
        "Batch Normalization"
      ],
      "metadata": {
        "id": "UBLjjr3NIYkf"
      }
    },
    {
      "cell_type": "code",
      "source": [
        "from tensorflow.keras.layers import BatchNormalization"
      ],
      "metadata": {
        "id": "LGqYjK5FIXNl"
      },
      "execution_count": 61,
      "outputs": []
    },
    {
      "cell_type": "code",
      "source": [
        "model = Sequential(name='Batch_Normalization_Example')\n",
        "model.add(Dense(100, input_shape=(10,)))\n",
        "model.add(BatchNormalization())\n",
        "model.add(Dense(80))\n",
        "model.add(BatchNormalization())\n",
        "model.add(Dense(30))\n",
        "model.add(BatchNormalization())\n",
        "model.add(Dense(10))\n",
        "model.add(Dense(5))\n",
        "model.add(Dense(1))\n",
        "\n",
        "model.summary()"
      ],
      "metadata": {
        "colab": {
          "base_uri": "https://localhost:8080/",
          "height": 484
        },
        "id": "VSaTxjUAJAfT",
        "outputId": "173d5b21-f282-4283-de50-a1bab69c4fa0"
      },
      "execution_count": 62,
      "outputs": [
        {
          "output_type": "display_data",
          "data": {
            "text/plain": [
              "\u001b[1mModel: \"Batch_Normalization_Example\"\u001b[0m\n"
            ],
            "text/html": [
              "<pre style=\"white-space:pre;overflow-x:auto;line-height:normal;font-family:Menlo,'DejaVu Sans Mono',consolas,'Courier New',monospace\"><span style=\"font-weight: bold\">Model: \"Batch_Normalization_Example\"</span>\n",
              "</pre>\n"
            ]
          },
          "metadata": {}
        },
        {
          "output_type": "display_data",
          "data": {
            "text/plain": [
              "┏━━━━━━━━━━━━━━━━━━━━━━━━━━━━━━━━━━━━━━┳━━━━━━━━━━━━━━━━━━━━━━━━━━━━━┳━━━━━━━━━━━━━━━━━┓\n",
              "┃\u001b[1m \u001b[0m\u001b[1mLayer (type)                        \u001b[0m\u001b[1m \u001b[0m┃\u001b[1m \u001b[0m\u001b[1mOutput Shape               \u001b[0m\u001b[1m \u001b[0m┃\u001b[1m \u001b[0m\u001b[1m        Param #\u001b[0m\u001b[1m \u001b[0m┃\n",
              "┡━━━━━━━━━━━━━━━━━━━━━━━━━━━━━━━━━━━━━━╇━━━━━━━━━━━━━━━━━━━━━━━━━━━━━╇━━━━━━━━━━━━━━━━━┩\n",
              "│ dense_15 (\u001b[38;5;33mDense\u001b[0m)                     │ (\u001b[38;5;45mNone\u001b[0m, \u001b[38;5;34m100\u001b[0m)                 │           \u001b[38;5;34m1,100\u001b[0m │\n",
              "├──────────────────────────────────────┼─────────────────────────────┼─────────────────┤\n",
              "│ batch_normalization                  │ (\u001b[38;5;45mNone\u001b[0m, \u001b[38;5;34m100\u001b[0m)                 │             \u001b[38;5;34m400\u001b[0m │\n",
              "│ (\u001b[38;5;33mBatchNormalization\u001b[0m)                 │                             │                 │\n",
              "├──────────────────────────────────────┼─────────────────────────────┼─────────────────┤\n",
              "│ dense_16 (\u001b[38;5;33mDense\u001b[0m)                     │ (\u001b[38;5;45mNone\u001b[0m, \u001b[38;5;34m80\u001b[0m)                  │           \u001b[38;5;34m8,080\u001b[0m │\n",
              "├──────────────────────────────────────┼─────────────────────────────┼─────────────────┤\n",
              "│ batch_normalization_1                │ (\u001b[38;5;45mNone\u001b[0m, \u001b[38;5;34m80\u001b[0m)                  │             \u001b[38;5;34m320\u001b[0m │\n",
              "│ (\u001b[38;5;33mBatchNormalization\u001b[0m)                 │                             │                 │\n",
              "├──────────────────────────────────────┼─────────────────────────────┼─────────────────┤\n",
              "│ dense_17 (\u001b[38;5;33mDense\u001b[0m)                     │ (\u001b[38;5;45mNone\u001b[0m, \u001b[38;5;34m30\u001b[0m)                  │           \u001b[38;5;34m2,430\u001b[0m │\n",
              "├──────────────────────────────────────┼─────────────────────────────┼─────────────────┤\n",
              "│ batch_normalization_2                │ (\u001b[38;5;45mNone\u001b[0m, \u001b[38;5;34m30\u001b[0m)                  │             \u001b[38;5;34m120\u001b[0m │\n",
              "│ (\u001b[38;5;33mBatchNormalization\u001b[0m)                 │                             │                 │\n",
              "├──────────────────────────────────────┼─────────────────────────────┼─────────────────┤\n",
              "│ dense_18 (\u001b[38;5;33mDense\u001b[0m)                     │ (\u001b[38;5;45mNone\u001b[0m, \u001b[38;5;34m10\u001b[0m)                  │             \u001b[38;5;34m310\u001b[0m │\n",
              "├──────────────────────────────────────┼─────────────────────────────┼─────────────────┤\n",
              "│ dense_19 (\u001b[38;5;33mDense\u001b[0m)                     │ (\u001b[38;5;45mNone\u001b[0m, \u001b[38;5;34m5\u001b[0m)                   │              \u001b[38;5;34m55\u001b[0m │\n",
              "├──────────────────────────────────────┼─────────────────────────────┼─────────────────┤\n",
              "│ dense_20 (\u001b[38;5;33mDense\u001b[0m)                     │ (\u001b[38;5;45mNone\u001b[0m, \u001b[38;5;34m1\u001b[0m)                   │               \u001b[38;5;34m6\u001b[0m │\n",
              "└──────────────────────────────────────┴─────────────────────────────┴─────────────────┘\n"
            ],
            "text/html": [
              "<pre style=\"white-space:pre;overflow-x:auto;line-height:normal;font-family:Menlo,'DejaVu Sans Mono',consolas,'Courier New',monospace\">┏━━━━━━━━━━━━━━━━━━━━━━━━━━━━━━━━━━━━━━┳━━━━━━━━━━━━━━━━━━━━━━━━━━━━━┳━━━━━━━━━━━━━━━━━┓\n",
              "┃<span style=\"font-weight: bold\"> Layer (type)                         </span>┃<span style=\"font-weight: bold\"> Output Shape                </span>┃<span style=\"font-weight: bold\">         Param # </span>┃\n",
              "┡━━━━━━━━━━━━━━━━━━━━━━━━━━━━━━━━━━━━━━╇━━━━━━━━━━━━━━━━━━━━━━━━━━━━━╇━━━━━━━━━━━━━━━━━┩\n",
              "│ dense_15 (<span style=\"color: #0087ff; text-decoration-color: #0087ff\">Dense</span>)                     │ (<span style=\"color: #00d7ff; text-decoration-color: #00d7ff\">None</span>, <span style=\"color: #00af00; text-decoration-color: #00af00\">100</span>)                 │           <span style=\"color: #00af00; text-decoration-color: #00af00\">1,100</span> │\n",
              "├──────────────────────────────────────┼─────────────────────────────┼─────────────────┤\n",
              "│ batch_normalization                  │ (<span style=\"color: #00d7ff; text-decoration-color: #00d7ff\">None</span>, <span style=\"color: #00af00; text-decoration-color: #00af00\">100</span>)                 │             <span style=\"color: #00af00; text-decoration-color: #00af00\">400</span> │\n",
              "│ (<span style=\"color: #0087ff; text-decoration-color: #0087ff\">BatchNormalization</span>)                 │                             │                 │\n",
              "├──────────────────────────────────────┼─────────────────────────────┼─────────────────┤\n",
              "│ dense_16 (<span style=\"color: #0087ff; text-decoration-color: #0087ff\">Dense</span>)                     │ (<span style=\"color: #00d7ff; text-decoration-color: #00d7ff\">None</span>, <span style=\"color: #00af00; text-decoration-color: #00af00\">80</span>)                  │           <span style=\"color: #00af00; text-decoration-color: #00af00\">8,080</span> │\n",
              "├──────────────────────────────────────┼─────────────────────────────┼─────────────────┤\n",
              "│ batch_normalization_1                │ (<span style=\"color: #00d7ff; text-decoration-color: #00d7ff\">None</span>, <span style=\"color: #00af00; text-decoration-color: #00af00\">80</span>)                  │             <span style=\"color: #00af00; text-decoration-color: #00af00\">320</span> │\n",
              "│ (<span style=\"color: #0087ff; text-decoration-color: #0087ff\">BatchNormalization</span>)                 │                             │                 │\n",
              "├──────────────────────────────────────┼─────────────────────────────┼─────────────────┤\n",
              "│ dense_17 (<span style=\"color: #0087ff; text-decoration-color: #0087ff\">Dense</span>)                     │ (<span style=\"color: #00d7ff; text-decoration-color: #00d7ff\">None</span>, <span style=\"color: #00af00; text-decoration-color: #00af00\">30</span>)                  │           <span style=\"color: #00af00; text-decoration-color: #00af00\">2,430</span> │\n",
              "├──────────────────────────────────────┼─────────────────────────────┼─────────────────┤\n",
              "│ batch_normalization_2                │ (<span style=\"color: #00d7ff; text-decoration-color: #00d7ff\">None</span>, <span style=\"color: #00af00; text-decoration-color: #00af00\">30</span>)                  │             <span style=\"color: #00af00; text-decoration-color: #00af00\">120</span> │\n",
              "│ (<span style=\"color: #0087ff; text-decoration-color: #0087ff\">BatchNormalization</span>)                 │                             │                 │\n",
              "├──────────────────────────────────────┼─────────────────────────────┼─────────────────┤\n",
              "│ dense_18 (<span style=\"color: #0087ff; text-decoration-color: #0087ff\">Dense</span>)                     │ (<span style=\"color: #00d7ff; text-decoration-color: #00d7ff\">None</span>, <span style=\"color: #00af00; text-decoration-color: #00af00\">10</span>)                  │             <span style=\"color: #00af00; text-decoration-color: #00af00\">310</span> │\n",
              "├──────────────────────────────────────┼─────────────────────────────┼─────────────────┤\n",
              "│ dense_19 (<span style=\"color: #0087ff; text-decoration-color: #0087ff\">Dense</span>)                     │ (<span style=\"color: #00d7ff; text-decoration-color: #00d7ff\">None</span>, <span style=\"color: #00af00; text-decoration-color: #00af00\">5</span>)                   │              <span style=\"color: #00af00; text-decoration-color: #00af00\">55</span> │\n",
              "├──────────────────────────────────────┼─────────────────────────────┼─────────────────┤\n",
              "│ dense_20 (<span style=\"color: #0087ff; text-decoration-color: #0087ff\">Dense</span>)                     │ (<span style=\"color: #00d7ff; text-decoration-color: #00d7ff\">None</span>, <span style=\"color: #00af00; text-decoration-color: #00af00\">1</span>)                   │               <span style=\"color: #00af00; text-decoration-color: #00af00\">6</span> │\n",
              "└──────────────────────────────────────┴─────────────────────────────┴─────────────────┘\n",
              "</pre>\n"
            ]
          },
          "metadata": {}
        },
        {
          "output_type": "display_data",
          "data": {
            "text/plain": [
              "\u001b[1m Total params: \u001b[0m\u001b[38;5;34m12,821\u001b[0m (50.08 KB)\n"
            ],
            "text/html": [
              "<pre style=\"white-space:pre;overflow-x:auto;line-height:normal;font-family:Menlo,'DejaVu Sans Mono',consolas,'Courier New',monospace\"><span style=\"font-weight: bold\"> Total params: </span><span style=\"color: #00af00; text-decoration-color: #00af00\">12,821</span> (50.08 KB)\n",
              "</pre>\n"
            ]
          },
          "metadata": {}
        },
        {
          "output_type": "display_data",
          "data": {
            "text/plain": [
              "\u001b[1m Trainable params: \u001b[0m\u001b[38;5;34m12,401\u001b[0m (48.44 KB)\n"
            ],
            "text/html": [
              "<pre style=\"white-space:pre;overflow-x:auto;line-height:normal;font-family:Menlo,'DejaVu Sans Mono',consolas,'Courier New',monospace\"><span style=\"font-weight: bold\"> Trainable params: </span><span style=\"color: #00af00; text-decoration-color: #00af00\">12,401</span> (48.44 KB)\n",
              "</pre>\n"
            ]
          },
          "metadata": {}
        },
        {
          "output_type": "display_data",
          "data": {
            "text/plain": [
              "\u001b[1m Non-trainable params: \u001b[0m\u001b[38;5;34m420\u001b[0m (1.64 KB)\n"
            ],
            "text/html": [
              "<pre style=\"white-space:pre;overflow-x:auto;line-height:normal;font-family:Menlo,'DejaVu Sans Mono',consolas,'Courier New',monospace\"><span style=\"font-weight: bold\"> Non-trainable params: </span><span style=\"color: #00af00; text-decoration-color: #00af00\">420</span> (1.64 KB)\n",
              "</pre>\n"
            ]
          },
          "metadata": {}
        }
      ]
    }
  ]
}